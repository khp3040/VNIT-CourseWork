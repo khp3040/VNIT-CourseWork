{
  "nbformat": 4,
  "nbformat_minor": 0,
  "metadata": {
    "colab": {
      "name": "Example of image classification with neural network.ipynb",
      "provenance": [],
      "collapsed_sections": [],
      "include_colab_link": true
    },
    "kernelspec": {
      "name": "python3",
      "display_name": "Python 3"
    }
  },
  "cells": [
    {
      "cell_type": "markdown",
      "metadata": {
        "id": "view-in-github",
        "colab_type": "text"
      },
      "source": [
        "<a href=\"https://colab.research.google.com/github/dpanagop/ML_and_AI_examples/blob/master/Example%20of%20image%20classification%20with%20neural%20network.ipynb\" target=\"_parent\"><img src=\"https://colab.research.google.com/assets/colab-badge.svg\" alt=\"Open In Colab\"/></a>"
      ]
    },
    {
      "cell_type": "markdown",
      "metadata": {
        "id": "Ww3F3BuDkH_V",
        "colab_type": "text"
      },
      "source": [
        "#Example of image classification with neural network"
      ]
    },
    {
      "cell_type": "markdown",
      "metadata": {
        "id": "HidJIZ8kkg1Q",
        "colab_type": "text"
      },
      "source": [
        "###First, we load the necessary libraries"
      ]
    },
    {
      "cell_type": "code",
      "metadata": {
        "id": "QRhENDcTjx1S",
        "colab_type": "code",
        "outputId": "77348de5-0b40-45dc-f4dc-bf37ceef9694",
        "colab": {
          "base_uri": "https://localhost:8080/",
          "height": 65
        }
      },
      "source": [
        "import numpy as np\n",
        "import tensorflow as tf\n",
        "from tensorflow import keras\n",
        "import matplotlib.pyplot as plt"
      ],
      "execution_count": 0,
      "outputs": [
        {
          "output_type": "display_data",
          "data": {
            "text/html": [
              "<p style=\"color: red;\">\n",
              "The default version of TensorFlow in Colab will soon switch to TensorFlow 2.x.<br>\n",
              "We recommend you <a href=\"https://www.tensorflow.org/guide/migrate\" target=\"_blank\">upgrade</a> now \n",
              "or ensure your notebook will continue to use TensorFlow 1.x via the <code>%tensorflow_version 1.x</code> magic:\n",
              "<a href=\"https://colab.research.google.com/notebooks/tensorflow_version.ipynb\" target=\"_blank\">more info</a>.</p>\n"
            ],
            "text/plain": [
              "<IPython.core.display.HTML object>"
            ]
          },
          "metadata": {
            "tags": []
          }
        }
      ]
    },
    {
      "cell_type": "markdown",
      "metadata": {
        "id": "x1dVuDBolRg7",
        "colab_type": "text"
      },
      "source": [
        "###Then, we load Fashion MINST dataset"
      ]
    },
    {
      "cell_type": "code",
      "metadata": {
        "id": "akPbPBwplY8v",
        "colab_type": "code",
        "outputId": "5d504831-f824-4826-9528-6768e84bc744",
        "colab": {
          "base_uri": "https://localhost:8080/",
          "height": 164
        }
      },
      "source": [
        "fashion_mnist = keras.datasets.fashion_mnist\n",
        "(train_images, train_labels), (test_images, test_labels) = fashion_mnist.load_data()"
      ],
      "execution_count": 0,
      "outputs": [
        {
          "output_type": "stream",
          "text": [
            "Downloading data from https://storage.googleapis.com/tensorflow/tf-keras-datasets/train-labels-idx1-ubyte.gz\n",
            "32768/29515 [=================================] - 0s 0us/step\n",
            "Downloading data from https://storage.googleapis.com/tensorflow/tf-keras-datasets/train-images-idx3-ubyte.gz\n",
            "26427392/26421880 [==============================] - 1s 0us/step\n",
            "Downloading data from https://storage.googleapis.com/tensorflow/tf-keras-datasets/t10k-labels-idx1-ubyte.gz\n",
            "8192/5148 [===============================================] - 0s 0us/step\n",
            "Downloading data from https://storage.googleapis.com/tensorflow/tf-keras-datasets/t10k-images-idx3-ubyte.gz\n",
            "4423680/4422102 [==============================] - 0s 0us/step\n"
          ],
          "name": "stdout"
        }
      ]
    },
    {
      "cell_type": "markdown",
      "metadata": {
        "id": "Xz_mDVy1ovUL",
        "colab_type": "text"
      },
      "source": [
        "###Label number correspond to:\n",
        "| Label| Class|\n",
        "|---------|----------|\n",
        "| 0  | T-shirt/top|\n",
        "| 1  | Trouser|\n",
        "| 2  | Pullover|\n",
        "| 3  | Dress|\n",
        "| 4  | Coat|\n",
        "| 5  | Sandal|\n",
        "| 6  | Shirt|\n",
        "| 7  | Sneaker|\n",
        "| 8  | bag|\n",
        "| 9  | Ankle boot|\n",
        "\n",
        "###We store correspondence in class_names variable"
      ]
    },
    {
      "cell_type": "code",
      "metadata": {
        "id": "3jTUU9zPo_pY",
        "colab_type": "code",
        "colab": {}
      },
      "source": [
        "class_names = ['T-shirt/top', 'Trouser', 'Pullover', 'Dress', 'Coat',\n",
        "               'Sandal', 'Shirt', 'Sneaker', 'Bag', 'Ankle boot']"
      ],
      "execution_count": 0,
      "outputs": []
    },
    {
      "cell_type": "markdown",
      "metadata": {
        "id": "Y_7uABuIpBEV",
        "colab_type": "text"
      },
      "source": [
        "###We can see an example"
      ]
    },
    {
      "cell_type": "code",
      "metadata": {
        "id": "9ctTGeODlvt6",
        "colab_type": "code",
        "outputId": "46906eb1-11a1-4c01-f5d0-b7473bf5f08c",
        "colab": {
          "base_uri": "https://localhost:8080/",
          "height": 238
        }
      },
      "source": [
        "f, ax = plt.subplots(1,2)\n",
        "ax[0].imshow(train_images[40])\n",
        "ax[1].imshow(train_images[50])\n",
        "print(train_labels[40],train_labels[50])\n",
        "print(class_names[6],class_names[6])"
      ],
      "execution_count": 0,
      "outputs": [
        {
          "output_type": "stream",
          "text": [
            "6 3\n",
            "Shirt Shirt\n"
          ],
          "name": "stdout"
        },
        {
          "output_type": "display_data",
          "data": {
            "image/png": "[encoded data removed]",
            "text/plain": [
              "<Figure size 432x288 with 2 Axes>"
            ]
          },
          "metadata": {
            "tags": []
          }
        }
      ]
    },
    {
      "cell_type": "markdown",
      "metadata": {
        "id": "84j2r_8qle4g",
        "colab_type": "text"
      },
      "source": [
        "###Next, we normalise data"
      ]
    },
    {
      "cell_type": "code",
      "metadata": {
        "id": "ABSLwCLslpkI",
        "colab_type": "code",
        "colab": {}
      },
      "source": [
        "train_images = train_images / 255.0\n",
        "test_images = test_images / 255.0\n"
      ],
      "execution_count": 0,
      "outputs": []
    },
    {
      "cell_type": "markdown",
      "metadata": {
        "id": "1P3gPj5TnWvI",
        "colab_type": "text"
      },
      "source": [
        "###We create a neural net"
      ]
    },
    {
      "cell_type": "code",
      "metadata": {
        "id": "EnO6W_uendrN",
        "colab_type": "code",
        "outputId": "4db42f2d-7f5a-4b1e-a388-2510f62eb8bb",
        "colab": {
          "base_uri": "https://localhost:8080/",
          "height": 92
        }
      },
      "source": [
        "model = keras.Sequential([\n",
        "    keras.layers.Flatten(input_shape=(28, 28)),\n",
        "    keras.layers.Dense(64, activation=tf.nn.relu),\n",
        "    keras.layers.Dense(10, activation=tf.nn.softmax)\n",
        "])"
      ],
      "execution_count": 0,
      "outputs": [
        {
          "output_type": "stream",
          "text": [
            "WARNING:tensorflow:From /usr/local/lib/python3.6/dist-packages/tensorflow_core/python/ops/resource_variable_ops.py:1630: calling BaseResourceVariable.__init__ (from tensorflow.python.ops.resource_variable_ops) with constraint is deprecated and will be removed in a future version.\n",
            "Instructions for updating:\n",
            "If using Keras pass *_constraint arguments to layers.\n"
          ],
          "name": "stdout"
        }
      ]
    },
    {
      "cell_type": "markdown",
      "metadata": {
        "id": "f4ZajpTGnkLd",
        "colab_type": "text"
      },
      "source": [
        "###Next, compile the model"
      ]
    },
    {
      "cell_type": "code",
      "metadata": {
        "id": "cs-CinJAnjxy",
        "colab_type": "code",
        "colab": {}
      },
      "source": [
        "model.compile(optimizer='adam', \n",
        "              loss='sparse_categorical_crossentropy', metrics=['accuracy'])"
      ],
      "execution_count": 0,
      "outputs": []
    },
    {
      "cell_type": "markdown",
      "metadata": {
        "id": "F-Cd-ptRns1w",
        "colab_type": "text"
      },
      "source": [
        "###Train model"
      ]
    },
    {
      "cell_type": "code",
      "metadata": {
        "id": "8bfZQh8vnujg",
        "colab_type": "code",
        "outputId": "368fff7b-3aa3-4fe8-efd0-e33cfe3e47d9",
        "colab": {
          "base_uri": "https://localhost:8080/",
          "height": 421
        }
      },
      "source": [
        "model.fit(train_images, train_labels, epochs=10)"
      ],
      "execution_count": 0,
      "outputs": [
        {
          "output_type": "stream",
          "text": [
            "Train on 60000 samples\n",
            "Epoch 1/10\n",
            "60000/60000 [==============================] - 4s 68us/sample - loss: 0.5175 - acc: 0.8194\n",
            "Epoch 2/10\n",
            "60000/60000 [==============================] - 4s 62us/sample - loss: 0.3921 - acc: 0.8615\n",
            "Epoch 3/10\n",
            "60000/60000 [==============================] - 4s 61us/sample - loss: 0.3565 - acc: 0.8711\n",
            "Epoch 4/10\n",
            "60000/60000 [==============================] - 4s 60us/sample - loss: 0.3330 - acc: 0.8784\n",
            "Epoch 5/10\n",
            "60000/60000 [==============================] - 4s 61us/sample - loss: 0.3146 - acc: 0.8836\n",
            "Epoch 6/10\n",
            "60000/60000 [==============================] - 4s 61us/sample - loss: 0.3026 - acc: 0.8891\n",
            "Epoch 7/10\n",
            "60000/60000 [==============================] - 4s 61us/sample - loss: 0.2893 - acc: 0.8948\n",
            "Epoch 8/10\n",
            "60000/60000 [==============================] - 4s 61us/sample - loss: 0.2778 - acc: 0.8982\n",
            "Epoch 9/10\n",
            "60000/60000 [==============================] - 4s 61us/sample - loss: 0.2695 - acc: 0.9009\n",
            "Epoch 10/10\n",
            "60000/60000 [==============================] - 4s 61us/sample - loss: 0.2632 - acc: 0.9036\n"
          ],
          "name": "stdout"
        },
        {
          "output_type": "execute_result",
          "data": {
            "text/plain": [
              "<tensorflow.python.keras.callbacks.History at 0x7f4ffa687400>"
            ]
          },
          "metadata": {
            "tags": []
          },
          "execution_count": 8
        }
      ]
    },
    {
      "cell_type": "markdown",
      "metadata": {
        "id": "Lb0BXV-6n7aJ",
        "colab_type": "text"
      },
      "source": [
        "###Predict class of second image in test dataset"
      ]
    },
    {
      "cell_type": "code",
      "metadata": {
        "id": "s8jsni0bn_f1",
        "colab_type": "code",
        "outputId": "caca936e-c1f8-45bd-d572-5461e515a52c",
        "colab": {
          "base_uri": "https://localhost:8080/",
          "height": 90
        }
      },
      "source": [
        "prediction=model.predict(test_images[1].reshape(1, 28, 28))\n",
        "print(\"Probabilities of image in each class are\",prediction)\n",
        "print(\"Highest probability in place:\", prediction.argmax())\n",
        "print(\"Image is classified as a: \",class_names[prediction.argmax()])"
      ],
      "execution_count": 0,
      "outputs": [
        {
          "output_type": "stream",
          "text": [
            "Probabilities of image in each class are [[4.7269925e-05 6.7162512e-11 9.9416757e-01 7.9031757e-08 2.6153151e-03\n",
            "  7.7022203e-14 3.1697203e-03 3.2766182e-15 1.2217416e-08 4.0623840e-15]]\n",
            "Highest probability in place: 2\n",
            "Image is classified as a:  Pullover\n"
          ],
          "name": "stdout"
        }
      ]
    },
    {
      "cell_type": "markdown",
      "metadata": {
        "id": "NnRT1sg7rQHi",
        "colab_type": "text"
      },
      "source": [
        ""
      ]
    },
    {
      "cell_type": "code",
      "metadata": {
        "id": "zslaJQ7VoZDu",
        "colab_type": "code",
        "outputId": "e2d9cd85-a5ac-4558-c83f-61b748a005ed",
        "colab": {
          "base_uri": "https://localhost:8080/",
          "height": 320
        }
      },
      "source": [
        "print(\"Actual label number is:\",test_labels[1])\n",
        "print(\"Image is a: \",class_names[test_labels[1]])\n",
        "plt.imshow(test_images[1])\n"
      ],
      "execution_count": 0,
      "outputs": [
        {
          "output_type": "stream",
          "text": [
            "Actual label number is: 2\n",
            "Image is a:  Pullover\n"
          ],
          "name": "stdout"
        },
        {
          "output_type": "execute_result",
          "data": {
            "text/plain": [
              "<matplotlib.image.AxesImage at 0x7f4ff5013cc0>"
            ]
          },
          "metadata": {
            "tags": []
          },
          "execution_count": 10
        },
        {
          "output_type": "display_data",
          "data": {
            "image/png": "[encoded data removed]",
            "text/plain": [
              "<Figure size 432x288 with 1 Axes>"
            ]
          },
          "metadata": {
            "tags": []
          }
        }
      ]
    },
    {
      "cell_type": "markdown",
      "metadata": {
        "id": "KaJlvr76sOtB",
        "colab_type": "text"
      },
      "source": [
        "###Evaluate models accuracy"
      ]
    },
    {
      "cell_type": "code",
      "metadata": {
        "id": "iyCJ4rDzsRx8",
        "colab_type": "code",
        "outputId": "32613819-27fa-4aa7-d611-9ce66e2cd5de",
        "colab": {
          "base_uri": "https://localhost:8080/",
          "height": 54
        }
      },
      "source": [
        "test_acc = model.evaluate(test_images, test_labels)\n",
        "print('Test loss, accuracy:', test_acc)\n"
      ],
      "execution_count": 0,
      "outputs": [
        {
          "output_type": "stream",
          "text": [
            "10000/10000 [==============================] - 0s 34us/sample - loss: 0.3430 - acc: 0.8819\n",
            "Test loss, accuracy: [0.34303882870674135, 0.8819]\n"
          ],
          "name": "stdout"
        }
      ]
    },
    {
      "cell_type": "code",
      "metadata": {
        "id": "GQMgOE88CFNZ",
        "colab_type": "code",
        "outputId": "2fbe7902-26de-41de-9c19-6f9e204ffd92",
        "colab": {
          "base_uri": "https://localhost:8080/",
          "height": 394
        }
      },
      "source": [
        "prediction=model.predict(test_images[12].reshape(1, 28, 28))\n",
        "print(\"Probabilities of image in each class are\",prediction)\n",
        "print(\"Highest probability in place:\", prediction.argmax())\n",
        "print(\"Image is classified as a: \",class_names[prediction.argmax()])\n",
        "print(\"Actual label number is:\",test_labels[12])\n",
        "print(\"Image is a: \",class_names[test_labels[12]])\n",
        "plt.imshow(test_images[12])"
      ],
      "execution_count": 0,
      "outputs": [
        {
          "output_type": "stream",
          "text": [
            "Probabilities of image in each class are [[2.9833541e-07 3.4984214e-07 5.2938790e-06 2.2196046e-07 3.0843472e-05\n",
            "  1.4087908e-01 5.4214041e-08 2.2918980e-01 6.2989372e-01 2.9229400e-07]]\n",
            "Highest probability in place: 8\n",
            "Image is classified as a:  Bag\n",
            "Actual label number is: 7\n",
            "Image is a:  Sneaker\n"
          ],
          "name": "stdout"
        },
        {
          "output_type": "execute_result",
          "data": {
            "text/plain": [
              "<matplotlib.image.AxesImage at 0x7f4ffbfe4470>"
            ]
          },
          "metadata": {
            "tags": []
          },
          "execution_count": 12
        },
        {
          "output_type": "display_data",
          "data": {
            "image/png": "[encoded data removed]",
            "text/plain": [
              "<Figure size 432x288 with 1 Axes>"
            ]
          },
          "metadata": {
            "tags": []
          }
        }
      ]
    },
    {
      "cell_type": "code",
      "metadata": {
        "id": "y8Tane_mDHI-",
        "colab_type": "code",
        "outputId": "caa88df2-0a13-4083-dc1b-b88c2b78db19",
        "colab": {
          "base_uri": "https://localhost:8080/",
          "height": 394
        }
      },
      "source": [
        "prediction=model.predict(test_images[17].reshape(1, 28, 28))\n",
        "print(\"Probabilities of image in each class are\",prediction)\n",
        "print(\"Highest probability in place:\", prediction.argmax())\n",
        "print(\"Image is classified as a: \",class_names[prediction.argmax()])\n",
        "print(\"Actual label number is:\",test_labels[17])\n",
        "print(\"Image is a: \",class_names[test_labels[17]])\n",
        "plt.imshow(test_images[17])"
      ],
      "execution_count": 0,
      "outputs": [
        {
          "output_type": "stream",
          "text": [
            "Probabilities of image in each class are [[2.6976159e-03 2.6915019e-09 9.8906553e-01 4.8810068e-07 3.9343471e-03\n",
            "  4.9612314e-10 4.2868727e-03 5.2282022e-11 1.5191695e-05 1.4628523e-10]]\n",
            "Highest probability in place: 2\n",
            "Image is classified as a:  Pullover\n",
            "Actual label number is: 4\n",
            "Image is a:  Coat\n"
          ],
          "name": "stdout"
        },
        {
          "output_type": "execute_result",
          "data": {
            "text/plain": [
              "<matplotlib.image.AxesImage at 0x7f4ff1fb0f28>"
            ]
          },
          "metadata": {
            "tags": []
          },
          "execution_count": 13
        },
        {
          "output_type": "display_data",
          "data": {
            "image/png": "[encoded data removed]",
            "text/plain": [
              "<Figure size 432x288 with 1 Axes>"
            ]
          },
          "metadata": {
            "tags": []
          }
        }
      ]
    }
  ]
}