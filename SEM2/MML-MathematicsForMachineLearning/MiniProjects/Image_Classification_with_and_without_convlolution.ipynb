{
  "nbformat": 4,
  "nbformat_minor": 0,
  "metadata": {
    "colab": {
      "name": "Image Classification with and without convlolution.ipynb",
      "provenance": [],
      "collapsed_sections": [],
      "include_colab_link": true
    },
    "kernelspec": {
      "name": "python3",
      "display_name": "Python 3"
    },
    "accelerator": "TPU"
  },
  "cells": [
    {
      "cell_type": "markdown",
      "metadata": {
        "id": "view-in-github",
        "colab_type": "text"
      },
      "source": [
        "<a href=\"https://colab.research.google.com/github/dpanagop/ML_and_AI_examples/blob/master/Image_Classification_with_and_without_convlolution.ipynb\" target=\"_parent\"><img src=\"https://colab.research.google.com/assets/colab-badge.svg\" alt=\"Open In Colab\"/></a>"
      ]
    },
    {
      "cell_type": "markdown",
      "metadata": {
        "id": "Ww3F3BuDkH_V",
        "colab_type": "text"
      },
      "source": [
        "#Image Classification with and without convlolution"
      ]
    },
    {
      "cell_type": "markdown",
      "metadata": {
        "id": "HidJIZ8kkg1Q",
        "colab_type": "text"
      },
      "source": [
        "###First, we load the necessary libraries"
      ]
    },
    {
      "cell_type": "code",
      "metadata": {
        "id": "QRhENDcTjx1S",
        "colab_type": "code",
        "colab": {}
      },
      "source": [
        "import numpy as np\n",
        "import tensorflow as tf\n",
        "from tensorflow import keras\n",
        "import matplotlib.pyplot as plt"
      ],
      "execution_count": 0,
      "outputs": []
    },
    {
      "cell_type": "markdown",
      "metadata": {
        "id": "x1dVuDBolRg7",
        "colab_type": "text"
      },
      "source": [
        "###Then, we load Fashion MINST dataset"
      ]
    },
    {
      "cell_type": "code",
      "metadata": {
        "id": "akPbPBwplY8v",
        "colab_type": "code",
        "outputId": "836eafb9-a6e8-4f21-ef89-cbb4ebcd98dc",
        "colab": {
          "base_uri": "https://localhost:8080/",
          "height": 164
        }
      },
      "source": [
        "fashion_mnist = keras.datasets.fashion_mnist\n",
        "(train_images, train_labels), (test_images, test_labels) = fashion_mnist.load_data()"
      ],
      "execution_count": 0,
      "outputs": [
        {
          "output_type": "stream",
          "text": [
            "Downloading data from https://storage.googleapis.com/tensorflow/tf-keras-datasets/train-labels-idx1-ubyte.gz\n",
            "32768/29515 [=================================] - 0s 0us/step\n",
            "Downloading data from https://storage.googleapis.com/tensorflow/tf-keras-datasets/train-images-idx3-ubyte.gz\n",
            "26427392/26421880 [==============================] - 1s 0us/step\n",
            "Downloading data from https://storage.googleapis.com/tensorflow/tf-keras-datasets/t10k-labels-idx1-ubyte.gz\n",
            "8192/5148 [===============================================] - 0s 0us/step\n",
            "Downloading data from https://storage.googleapis.com/tensorflow/tf-keras-datasets/t10k-images-idx3-ubyte.gz\n",
            "4423680/4422102 [==============================] - 0s 0us/step\n"
          ],
          "name": "stdout"
        }
      ]
    },
    {
      "cell_type": "markdown",
      "metadata": {
        "id": "Xz_mDVy1ovUL",
        "colab_type": "text"
      },
      "source": [
        "###Label number correspond to:\n",
        "| Label| Class|\n",
        "|---------|----------|\n",
        "| 0  | T-shirt/top|\n",
        "| 1  | Trouser|\n",
        "| 2  | Pullover|\n",
        "| 3  | Dress|\n",
        "| 4  | Coat|\n",
        "| 5  | Sandal|\n",
        "| 6  | Shirt|\n",
        "| 7  | Sneaker|\n",
        "| 8  | bag|\n",
        "| 9  | Ankle boot|\n",
        "\n",
        "###We store correspondence in class_names variable"
      ]
    },
    {
      "cell_type": "code",
      "metadata": {
        "id": "3jTUU9zPo_pY",
        "colab_type": "code",
        "colab": {}
      },
      "source": [
        "class_names = ['T-shirt/top', 'Trouser', 'Pullover', 'Dress', 'Coat',\n",
        "               'Sandal', 'Shirt', 'Sneaker', 'Bag', 'Ankle boot']"
      ],
      "execution_count": 0,
      "outputs": []
    },
    {
      "cell_type": "markdown",
      "metadata": {
        "id": "Y_7uABuIpBEV",
        "colab_type": "text"
      },
      "source": [
        "###We can see an example"
      ]
    },
    {
      "cell_type": "code",
      "metadata": {
        "id": "9ctTGeODlvt6",
        "colab_type": "code",
        "outputId": "49b94b1b-a1d9-4886-f132-f5abcf71a0a3",
        "colab": {
          "base_uri": "https://localhost:8080/",
          "height": 238
        }
      },
      "source": [
        "f, ax = plt.subplots(1,2)\n",
        "ax[0].imshow(train_images[40])\n",
        "ax[1].imshow(train_images[50])\n",
        "print(train_labels[40],train_labels[50])\n",
        "print(class_names[6],class_names[6])"
      ],
      "execution_count": 0,
      "outputs": [
        {
          "output_type": "stream",
          "text": [
            "6 3\n",
            "Shirt Shirt\n"
          ],
          "name": "stdout"
        },
        {
          "output_type": "display_data",
          "data": {
            "image/png": "[encoded data removed]",
            "text/plain": [
              "<Figure size 432x288 with 2 Axes>"
            ]
          },
          "metadata": {
            "tags": []
          }
        }
      ]
    },
    {
      "cell_type": "markdown",
      "metadata": {
        "id": "84j2r_8qle4g",
        "colab_type": "text"
      },
      "source": [
        "###Next, we normalise data"
      ]
    },
    {
      "cell_type": "code",
      "metadata": {
        "id": "ABSLwCLslpkI",
        "colab_type": "code",
        "colab": {}
      },
      "source": [
        "train_images = train_images / 255.0\n",
        "test_images = test_images / 255.0\n"
      ],
      "execution_count": 0,
      "outputs": []
    },
    {
      "cell_type": "markdown",
      "metadata": {
        "id": "1P3gPj5TnWvI",
        "colab_type": "text"
      },
      "source": [
        "#Simple neural net"
      ]
    },
    {
      "cell_type": "code",
      "metadata": {
        "id": "EnO6W_uendrN",
        "colab_type": "code",
        "colab": {}
      },
      "source": [
        "model = keras.Sequential([\n",
        "    keras.layers.Flatten(),\n",
        "    keras.layers.Dense(128, activation=tf.nn.relu),\n",
        "    keras.layers.Dense(10, activation=tf.nn.softmax)\n",
        "])"
      ],
      "execution_count": 0,
      "outputs": []
    },
    {
      "cell_type": "markdown",
      "metadata": {
        "id": "f4ZajpTGnkLd",
        "colab_type": "text"
      },
      "source": [
        "###Next, compile the model"
      ]
    },
    {
      "cell_type": "code",
      "metadata": {
        "id": "cs-CinJAnjxy",
        "colab_type": "code",
        "colab": {}
      },
      "source": [
        "model.compile(optimizer='adam', \n",
        "              loss='sparse_categorical_crossentropy', metrics=['accuracy'])"
      ],
      "execution_count": 0,
      "outputs": []
    },
    {
      "cell_type": "markdown",
      "metadata": {
        "id": "F-Cd-ptRns1w",
        "colab_type": "text"
      },
      "source": [
        "###Train model"
      ]
    },
    {
      "cell_type": "code",
      "metadata": {
        "id": "8bfZQh8vnujg",
        "colab_type": "code",
        "outputId": "cea87abe-2111-4981-ee8d-69baf82ca6be",
        "colab": {
          "base_uri": "https://localhost:8080/",
          "height": 421
        }
      },
      "source": [
        "model.fit(train_images, train_labels, epochs=10)"
      ],
      "execution_count": 0,
      "outputs": [
        {
          "output_type": "stream",
          "text": [
            "Train on 60000 samples\n",
            "Epoch 1/10\n",
            "60000/60000 [==============================] - 4s 68us/sample - loss: 0.1739 - acc: 0.9341\n",
            "Epoch 2/10\n",
            "60000/60000 [==============================] - 4s 67us/sample - loss: 0.1711 - acc: 0.9362\n",
            "Epoch 3/10\n",
            "60000/60000 [==============================] - 4s 68us/sample - loss: 0.1671 - acc: 0.9366\n",
            "Epoch 4/10\n",
            "60000/60000 [==============================] - 4s 69us/sample - loss: 0.1649 - acc: 0.9383\n",
            "Epoch 5/10\n",
            "60000/60000 [==============================] - 4s 68us/sample - loss: 0.1578 - acc: 0.9410\n",
            "Epoch 6/10\n",
            "60000/60000 [==============================] - 4s 68us/sample - loss: 0.1566 - acc: 0.9410\n",
            "Epoch 7/10\n",
            "60000/60000 [==============================] - 4s 68us/sample - loss: 0.1504 - acc: 0.9447\n",
            "Epoch 8/10\n",
            "60000/60000 [==============================] - 4s 68us/sample - loss: 0.1476 - acc: 0.9449\n",
            "Epoch 9/10\n",
            "60000/60000 [==============================] - 4s 68us/sample - loss: 0.1454 - acc: 0.9447\n",
            "Epoch 10/10\n",
            "60000/60000 [==============================] - 4s 67us/sample - loss: 0.1442 - acc: 0.9456\n"
          ],
          "name": "stdout"
        },
        {
          "output_type": "execute_result",
          "data": {
            "text/plain": [
              "<tensorflow.python.keras.callbacks.History at 0x7f5725d56278>"
            ]
          },
          "metadata": {
            "tags": []
          },
          "execution_count": 32
        }
      ]
    },
    {
      "cell_type": "markdown",
      "metadata": {
        "id": "Lb0BXV-6n7aJ",
        "colab_type": "text"
      },
      "source": [
        "###Predict class of second image in test dataset"
      ]
    },
    {
      "cell_type": "code",
      "metadata": {
        "id": "s8jsni0bn_f1",
        "colab_type": "code",
        "outputId": "12838771-6576-4398-d046-5305204fd42e",
        "colab": {
          "base_uri": "https://localhost:8080/",
          "height": 90
        }
      },
      "source": [
        "prediction=model.predict(test_images[1].reshape(1, 28, 28))\n",
        "print(\"Probabilities of image in each class are\",prediction)\n",
        "print(\"Highest probability in place:\", prediction.argmax())\n",
        "print(\"Image is classified as a: \",class_names[prediction.argmax()])"
      ],
      "execution_count": 0,
      "outputs": [
        {
          "output_type": "stream",
          "text": [
            "Probabilities of image in each class are [[1.4792593e-05 7.4572272e-15 9.9984133e-01 1.0109936e-13 9.9008597e-05\n",
            "  8.3782468e-15 4.4799071e-05 7.3859103e-23 1.0118387e-09 6.3930431e-16]]\n",
            "Highest probability in place: 2\n",
            "Image is classified as a:  Pullover\n"
          ],
          "name": "stdout"
        }
      ]
    },
    {
      "cell_type": "code",
      "metadata": {
        "id": "zslaJQ7VoZDu",
        "colab_type": "code",
        "outputId": "d103fa5e-cecf-430c-f94d-42962e2a8c61",
        "colab": {
          "base_uri": "https://localhost:8080/",
          "height": 320
        }
      },
      "source": [
        "print(\"Actual label number is:\",test_labels[1])\n",
        "print(\"Image is a: \",class_names[test_labels[1]])\n",
        "plt.imshow(test_images[1])\n"
      ],
      "execution_count": 0,
      "outputs": [
        {
          "output_type": "stream",
          "text": [
            "Actual label number is: 2\n",
            "Image is a:  Pullover\n"
          ],
          "name": "stdout"
        },
        {
          "output_type": "execute_result",
          "data": {
            "text/plain": [
              "<matplotlib.image.AxesImage at 0x7f5724a69278>"
            ]
          },
          "metadata": {
            "tags": []
          },
          "execution_count": 10
        },
        {
          "output_type": "display_data",
          "data": {
            "image/png": "[encoded data removed]",
            "text/plain": [
              "<Figure size 432x288 with 1 Axes>"
            ]
          },
          "metadata": {
            "tags": []
          }
        }
      ]
    },
    {
      "cell_type": "markdown",
      "metadata": {
        "id": "NnRT1sg7rQHi",
        "colab_type": "text"
      },
      "source": [
        "Second image is a pullover and it is classified correctly."
      ]
    },
    {
      "cell_type": "markdown",
      "metadata": {
        "id": "KaJlvr76sOtB",
        "colab_type": "text"
      },
      "source": [
        "###Evaluate models accuracy"
      ]
    },
    {
      "cell_type": "code",
      "metadata": {
        "id": "iyCJ4rDzsRx8",
        "colab_type": "code",
        "outputId": "210ea44e-d8f0-44a1-d3dc-2875c7f923fa",
        "colab": {
          "base_uri": "https://localhost:8080/",
          "height": 54
        }
      },
      "source": [
        "test_acc = model.evaluate(test_images, test_labels)\n",
        "print('Test loss, accuracy:', test_acc)\n"
      ],
      "execution_count": 0,
      "outputs": [
        {
          "output_type": "stream",
          "text": [
            "10000/10000 [==============================] - 0s 32us/sample - loss: 0.4091 - acc: 0.8865\n",
            "Test accuracy: [0.4091187917113304, 0.8865]\n"
          ],
          "name": "stdout"
        }
      ]
    },
    {
      "cell_type": "markdown",
      "metadata": {
        "id": "Xnki0uOpxoKz",
        "colab_type": "text"
      },
      "source": [
        "The overal model's accuracy is very low. This in part because of the low number of training epochs. Next, we will create a convolution neural network and compare the performance of the two models."
      ]
    },
    {
      "cell_type": "markdown",
      "metadata": {
        "id": "Z_Eli9ZX0Yio",
        "colab_type": "text"
      },
      "source": [
        "## Convolution Neural Network"
      ]
    },
    {
      "cell_type": "code",
      "metadata": {
        "id": "15ZvqCtO1R39",
        "colab_type": "code",
        "colab": {}
      },
      "source": [
        "cnn_train_images=train_images.reshape(60000, 28, 28, 1)\n",
        "cnn_test_images = test_images.reshape(10000, 28, 28, 1)"
      ],
      "execution_count": 0,
      "outputs": []
    },
    {
      "cell_type": "code",
      "metadata": {
        "id": "tNfabnuzxTmz",
        "colab_type": "code",
        "colab": {}
      },
      "source": [
        "cnn_model = tf.keras.models.Sequential([\n",
        "  tf.keras.layers.Conv2D(32, (3,3), activation='relu', input_shape=(28, 28,1)),\n",
        "  tf.keras.layers.MaxPooling2D(2, 2),\n",
        "  tf.keras.layers.Flatten(),\n",
        "  keras.layers.Dense(128, activation=tf.nn.relu),\n",
        "    keras.layers.Dense(10, activation=tf.nn.softmax)\n",
        "])"
      ],
      "execution_count": 0,
      "outputs": []
    },
    {
      "cell_type": "code",
      "metadata": {
        "id": "3SfRYTO40tzN",
        "colab_type": "code",
        "colab": {}
      },
      "source": [
        "cnn_model.compile(optimizer='adam', \n",
        "              loss='sparse_categorical_crossentropy', metrics=['accuracy'])"
      ],
      "execution_count": 0,
      "outputs": []
    },
    {
      "cell_type": "code",
      "metadata": {
        "id": "l7ASxW-70zIN",
        "colab_type": "code",
        "outputId": "c37abb7d-5419-40db-a6d0-82fdd4e0ab17",
        "colab": {
          "base_uri": "https://localhost:8080/",
          "height": 421
        }
      },
      "source": [
        "cnn_model.fit(cnn_train_images, train_labels, epochs=10)"
      ],
      "execution_count": 0,
      "outputs": [
        {
          "output_type": "stream",
          "text": [
            "Train on 60000 samples\n",
            "Epoch 1/10\n",
            "60000/60000 [==============================] - 36s 604us/sample - loss: 0.3938 - acc: 0.8609\n",
            "Epoch 2/10\n",
            "60000/60000 [==============================] - 36s 596us/sample - loss: 0.2643 - acc: 0.9043\n",
            "Epoch 3/10\n",
            "60000/60000 [==============================] - 36s 595us/sample - loss: 0.2214 - acc: 0.9185\n",
            "Epoch 4/10\n",
            "60000/60000 [==============================] - 36s 596us/sample - loss: 0.1910 - acc: 0.9294\n",
            "Epoch 5/10\n",
            "60000/60000 [==============================] - 36s 592us/sample - loss: 0.1613 - acc: 0.9407\n",
            "Epoch 6/10\n",
            "60000/60000 [==============================] - 35s 591us/sample - loss: 0.1386 - acc: 0.9488\n",
            "Epoch 7/10\n",
            "60000/60000 [==============================] - 35s 590us/sample - loss: 0.1174 - acc: 0.9567\n",
            "Epoch 8/10\n",
            "60000/60000 [==============================] - 36s 594us/sample - loss: 0.1005 - acc: 0.9628\n",
            "Epoch 9/10\n",
            "60000/60000 [==============================] - 36s 597us/sample - loss: 0.0848 - acc: 0.9688\n",
            "Epoch 10/10\n",
            "60000/60000 [==============================] - 36s 607us/sample - loss: 0.0727 - acc: 0.9743\n"
          ],
          "name": "stdout"
        },
        {
          "output_type": "execute_result",
          "data": {
            "text/plain": [
              "<tensorflow.python.keras.callbacks.History at 0x7f571c0796d8>"
            ]
          },
          "metadata": {
            "tags": []
          },
          "execution_count": 36
        }
      ]
    },
    {
      "cell_type": "code",
      "metadata": {
        "id": "88D3VU7O672K",
        "colab_type": "code",
        "outputId": "db316b9c-dcfd-4285-d8b5-e824b0bc8c06",
        "colab": {
          "base_uri": "https://localhost:8080/",
          "height": 54
        }
      },
      "source": [
        "test_cnn_acc = cnn_model.evaluate(cnn_test_images, test_labels)\n",
        "print('Test loss, accuracy:', test_cnn_acc)\n"
      ],
      "execution_count": 0,
      "outputs": [
        {
          "output_type": "stream",
          "text": [
            "10000/10000 [==============================] - 2s 200us/sample - loss: 0.3218 - acc: 0.9175\n",
            "Test loss, accuracy: [0.32177444730997085, 0.9175]\n"
          ],
          "name": "stdout"
        }
      ]
    }
  ]
}