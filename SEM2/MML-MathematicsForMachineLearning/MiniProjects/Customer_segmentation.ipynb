{
  "nbformat": 4,
  "nbformat_minor": 0,
  "metadata": {
    "colab": {
      "name": "Customer_segmentation.ipynb",
      "version": "0.3.2",
      "provenance": [],
      "collapsed_sections": [],
      "include_colab_link": true
    },
    "kernelspec": {
      "name": "python3",
      "display_name": "Python 3"
    }
  },
  "cells": [
    {
      "cell_type": "markdown",
      "metadata": {
        "id": "view-in-github",
        "colab_type": "text"
      },
      "source": [
        "<a href=\"https://colab.research.google.com/github/dpanagop/ML_and_AI_examples/blob/master/Customer_segmentation.ipynb\" target=\"_parent\"><img src=\"https://colab.research.google.com/assets/colab-badge.svg\" alt=\"Open In Colab\"/></a>"
      ]
    },
    {
      "cell_type": "markdown",
      "metadata": {
        "id": "YbF9C_0HTtCt",
        "colab_type": "text"
      },
      "source": [
        "#Load pandas, numpy, seaborn, matplotlib and scipy.stats libraries"
      ]
    },
    {
      "cell_type": "code",
      "metadata": {
        "id": "o1Y2cZUjlvmK",
        "colab_type": "code",
        "colab": {}
      },
      "source": [
        "import pandas as pd\n",
        "from scipy import stats\n",
        "import numpy as np\n",
        "import seaborn as sns\n",
        "import matplotlib.pyplot as plt"
      ],
      "execution_count": 0,
      "outputs": []
    },
    {
      "cell_type": "markdown",
      "metadata": {
        "id": "nL3JZZiyUB3Q",
        "colab_type": "text"
      },
      "source": [
        "#Load and examine data from UCI website "
      ]
    },
    {
      "cell_type": "code",
      "metadata": {
        "id": "IFaUdSXjmEVt",
        "colab_type": "code",
        "colab": {}
      },
      "source": [
        "url=\"https://archive.ics.uci.edu/ml/machine-learning-databases/00292/Wholesale%20customers%20data.csv\"\n",
        "dat=pd.read_csv(url)"
      ],
      "execution_count": 0,
      "outputs": []
    },
    {
      "cell_type": "markdown",
      "metadata": {
        "id": "tZpNYwAGUHyH",
        "colab_type": "text"
      },
      "source": [
        "###Examine first rows of dataset"
      ]
    },
    {
      "cell_type": "code",
      "metadata": {
        "id": "9XXls62Bmc1J",
        "colab_type": "code",
        "outputId": "6a460a21-f5c8-45b3-bae6-0e0bbe0cd3a1",
        "colab": {
          "base_uri": "https://localhost:8080/",
          "height": 206
        }
      },
      "source": [
        "dat.head()"
      ],
      "execution_count": 0,
      "outputs": [
        {
          "output_type": "execute_result",
          "data": {
            "text/html": [
              "<div>\n",
              "<style scoped>\n",
              "    .dataframe tbody tr th:only-of-type {\n",
              "        vertical-align: middle;\n",
              "    }\n",
              "\n",
              "    .dataframe tbody tr th {\n",
              "        vertical-align: top;\n",
              "    }\n",
              "\n",
              "    .dataframe thead th {\n",
              "        text-align: right;\n",
              "    }\n",
              "</style>\n",
              "<table border=\"1\" class=\"dataframe\">\n",
              "  <thead>\n",
              "    <tr style=\"text-align: right;\">\n",
              "      <th></th>\n",
              "      <th>Channel</th>\n",
              "      <th>Region</th>\n",
              "      <th>Fresh</th>\n",
              "      <th>Milk</th>\n",
              "      <th>Grocery</th>\n",
              "      <th>Frozen</th>\n",
              "      <th>Detergents_Paper</th>\n",
              "      <th>Delicassen</th>\n",
              "    </tr>\n",
              "  </thead>\n",
              "  <tbody>\n",
              "    <tr>\n",
              "      <th>0</th>\n",
              "      <td>2</td>\n",
              "      <td>3</td>\n",
              "      <td>12669</td>\n",
              "      <td>9656</td>\n",
              "      <td>7561</td>\n",
              "      <td>214</td>\n",
              "      <td>2674</td>\n",
              "      <td>1338</td>\n",
              "    </tr>\n",
              "    <tr>\n",
              "      <th>1</th>\n",
              "      <td>2</td>\n",
              "      <td>3</td>\n",
              "      <td>7057</td>\n",
              "      <td>9810</td>\n",
              "      <td>9568</td>\n",
              "      <td>1762</td>\n",
              "      <td>3293</td>\n",
              "      <td>1776</td>\n",
              "    </tr>\n",
              "    <tr>\n",
              "      <th>2</th>\n",
              "      <td>2</td>\n",
              "      <td>3</td>\n",
              "      <td>6353</td>\n",
              "      <td>8808</td>\n",
              "      <td>7684</td>\n",
              "      <td>2405</td>\n",
              "      <td>3516</td>\n",
              "      <td>7844</td>\n",
              "    </tr>\n",
              "    <tr>\n",
              "      <th>3</th>\n",
              "      <td>1</td>\n",
              "      <td>3</td>\n",
              "      <td>13265</td>\n",
              "      <td>1196</td>\n",
              "      <td>4221</td>\n",
              "      <td>6404</td>\n",
              "      <td>507</td>\n",
              "      <td>1788</td>\n",
              "    </tr>\n",
              "    <tr>\n",
              "      <th>4</th>\n",
              "      <td>2</td>\n",
              "      <td>3</td>\n",
              "      <td>22615</td>\n",
              "      <td>5410</td>\n",
              "      <td>7198</td>\n",
              "      <td>3915</td>\n",
              "      <td>1777</td>\n",
              "      <td>5185</td>\n",
              "    </tr>\n",
              "  </tbody>\n",
              "</table>\n",
              "</div>"
            ],
            "text/plain": [
              "   Channel  Region  Fresh  Milk  Grocery  Frozen  Detergents_Paper  Delicassen\n",
              "0        2       3  12669  9656     7561     214              2674        1338\n",
              "1        2       3   7057  9810     9568    1762              3293        1776\n",
              "2        2       3   6353  8808     7684    2405              3516        7844\n",
              "3        1       3  13265  1196     4221    6404               507        1788\n",
              "4        2       3  22615  5410     7198    3915              1777        5185"
            ]
          },
          "metadata": {
            "tags": []
          },
          "execution_count": 3
        }
      ]
    },
    {
      "cell_type": "markdown",
      "metadata": {
        "id": "DssIw6FxUZtN",
        "colab_type": "text"
      },
      "source": [
        "###With *info* command, we can see the types of our variables and the number of completed records for each one of them"
      ]
    },
    {
      "cell_type": "code",
      "metadata": {
        "id": "IIUu7iKFme7u",
        "colab_type": "code",
        "outputId": "d712afdb-2577-4458-a541-906ce5157c60",
        "colab": {
          "base_uri": "https://localhost:8080/",
          "height": 256
        }
      },
      "source": [
        "dat.info()"
      ],
      "execution_count": 0,
      "outputs": [
        {
          "output_type": "stream",
          "text": [
            "<class 'pandas.core.frame.DataFrame'>\n",
            "RangeIndex: 440 entries, 0 to 439\n",
            "Data columns (total 8 columns):\n",
            "Channel             440 non-null int64\n",
            "Region              440 non-null int64\n",
            "Fresh               440 non-null int64\n",
            "Milk                440 non-null int64\n",
            "Grocery             440 non-null int64\n",
            "Frozen              440 non-null int64\n",
            "Detergents_Paper    440 non-null int64\n",
            "Delicassen          440 non-null int64\n",
            "dtypes: int64(8)\n",
            "memory usage: 27.6 KB\n"
          ],
          "name": "stdout"
        }
      ]
    },
    {
      "cell_type": "markdown",
      "metadata": {
        "id": "fpJffGOKVHoe",
        "colab_type": "text"
      },
      "source": [
        "###while with *describe* command, we calculate the basic statistics for our variables"
      ]
    },
    {
      "cell_type": "code",
      "metadata": {
        "id": "eBiuzNoansbY",
        "colab_type": "code",
        "outputId": "7eb3766e-b2fe-4009-ea27-65dea96a4729",
        "colab": {
          "base_uri": "https://localhost:8080/",
          "height": 320
        }
      },
      "source": [
        "dat.describe()"
      ],
      "execution_count": 0,
      "outputs": [
        {
          "output_type": "execute_result",
          "data": {
            "text/html": [
              "<div>\n",
              "<style scoped>\n",
              "    .dataframe tbody tr th:only-of-type {\n",
              "        vertical-align: middle;\n",
              "    }\n",
              "\n",
              "    .dataframe tbody tr th {\n",
              "        vertical-align: top;\n",
              "    }\n",
              "\n",
              "    .dataframe thead th {\n",
              "        text-align: right;\n",
              "    }\n",
              "</style>\n",
              "<table border=\"1\" class=\"dataframe\">\n",
              "  <thead>\n",
              "    <tr style=\"text-align: right;\">\n",
              "      <th></th>\n",
              "      <th>Channel</th>\n",
              "      <th>Region</th>\n",
              "      <th>Fresh</th>\n",
              "      <th>Milk</th>\n",
              "      <th>Grocery</th>\n",
              "      <th>Frozen</th>\n",
              "      <th>Detergents_Paper</th>\n",
              "      <th>Delicassen</th>\n",
              "    </tr>\n",
              "  </thead>\n",
              "  <tbody>\n",
              "    <tr>\n",
              "      <th>count</th>\n",
              "      <td>440.000000</td>\n",
              "      <td>440.000000</td>\n",
              "      <td>440.000000</td>\n",
              "      <td>440.000000</td>\n",
              "      <td>440.000000</td>\n",
              "      <td>440.000000</td>\n",
              "      <td>440.000000</td>\n",
              "      <td>440.000000</td>\n",
              "    </tr>\n",
              "    <tr>\n",
              "      <th>mean</th>\n",
              "      <td>1.322727</td>\n",
              "      <td>2.543182</td>\n",
              "      <td>12000.297727</td>\n",
              "      <td>5796.265909</td>\n",
              "      <td>7951.277273</td>\n",
              "      <td>3071.931818</td>\n",
              "      <td>2881.493182</td>\n",
              "      <td>1524.870455</td>\n",
              "    </tr>\n",
              "    <tr>\n",
              "      <th>std</th>\n",
              "      <td>0.468052</td>\n",
              "      <td>0.774272</td>\n",
              "      <td>12647.328865</td>\n",
              "      <td>7380.377175</td>\n",
              "      <td>9503.162829</td>\n",
              "      <td>4854.673333</td>\n",
              "      <td>4767.854448</td>\n",
              "      <td>2820.105937</td>\n",
              "    </tr>\n",
              "    <tr>\n",
              "      <th>min</th>\n",
              "      <td>1.000000</td>\n",
              "      <td>1.000000</td>\n",
              "      <td>3.000000</td>\n",
              "      <td>55.000000</td>\n",
              "      <td>3.000000</td>\n",
              "      <td>25.000000</td>\n",
              "      <td>3.000000</td>\n",
              "      <td>3.000000</td>\n",
              "    </tr>\n",
              "    <tr>\n",
              "      <th>25%</th>\n",
              "      <td>1.000000</td>\n",
              "      <td>2.000000</td>\n",
              "      <td>3127.750000</td>\n",
              "      <td>1533.000000</td>\n",
              "      <td>2153.000000</td>\n",
              "      <td>742.250000</td>\n",
              "      <td>256.750000</td>\n",
              "      <td>408.250000</td>\n",
              "    </tr>\n",
              "    <tr>\n",
              "      <th>50%</th>\n",
              "      <td>1.000000</td>\n",
              "      <td>3.000000</td>\n",
              "      <td>8504.000000</td>\n",
              "      <td>3627.000000</td>\n",
              "      <td>4755.500000</td>\n",
              "      <td>1526.000000</td>\n",
              "      <td>816.500000</td>\n",
              "      <td>965.500000</td>\n",
              "    </tr>\n",
              "    <tr>\n",
              "      <th>75%</th>\n",
              "      <td>2.000000</td>\n",
              "      <td>3.000000</td>\n",
              "      <td>16933.750000</td>\n",
              "      <td>7190.250000</td>\n",
              "      <td>10655.750000</td>\n",
              "      <td>3554.250000</td>\n",
              "      <td>3922.000000</td>\n",
              "      <td>1820.250000</td>\n",
              "    </tr>\n",
              "    <tr>\n",
              "      <th>max</th>\n",
              "      <td>2.000000</td>\n",
              "      <td>3.000000</td>\n",
              "      <td>112151.000000</td>\n",
              "      <td>73498.000000</td>\n",
              "      <td>92780.000000</td>\n",
              "      <td>60869.000000</td>\n",
              "      <td>40827.000000</td>\n",
              "      <td>47943.000000</td>\n",
              "    </tr>\n",
              "  </tbody>\n",
              "</table>\n",
              "</div>"
            ],
            "text/plain": [
              "          Channel      Region  ...  Detergents_Paper    Delicassen\n",
              "count  440.000000  440.000000  ...        440.000000    440.000000\n",
              "mean     1.322727    2.543182  ...       2881.493182   1524.870455\n",
              "std      0.468052    0.774272  ...       4767.854448   2820.105937\n",
              "min      1.000000    1.000000  ...          3.000000      3.000000\n",
              "25%      1.000000    2.000000  ...        256.750000    408.250000\n",
              "50%      1.000000    3.000000  ...        816.500000    965.500000\n",
              "75%      2.000000    3.000000  ...       3922.000000   1820.250000\n",
              "max      2.000000    3.000000  ...      40827.000000  47943.000000\n",
              "\n",
              "[8 rows x 8 columns]"
            ]
          },
          "metadata": {
            "tags": []
          },
          "execution_count": 5
        }
      ]
    },
    {
      "cell_type": "markdown",
      "metadata": {
        "id": "tkpS35kTVLIK",
        "colab_type": "text"
      },
      "source": [
        "#Preprocessing\n",
        "\n",
        "###The following code snippet, detects for every variable the records that lie beyond 4 sds from the mean\n",
        "###It is a common practise to omit these records when clustering as outliers/extreme cases"
      ]
    },
    {
      "cell_type": "code",
      "metadata": {
        "id": "sLLENx2Ymhlr",
        "colab_type": "code",
        "outputId": "2387f327-40b5-45fd-d6eb-58930941ff5e",
        "colab": {
          "base_uri": "https://localhost:8080/",
          "height": 276
        }
      },
      "source": [
        "headers=[ 'Fresh', 'Milk', 'Grocery', 'Frozen',\n",
        "       'Detergents_Paper', 'Delicassen']\n",
        "outliers=[]\n",
        "for hd in headers:\n",
        "  z=np.abs(stats.zscore(dat[hd]))\n",
        "  id=np.where(z>4)\n",
        "  print(\"outliers for \",hd,\":\", id)\n",
        "  outliers=np.union1d(outliers,id[0])\n",
        "  print(\"new outliers are \",outliers)\n"
      ],
      "execution_count": 0,
      "outputs": [
        {
          "output_type": "stream",
          "text": [
            "outliers for  Fresh : (array([125, 181, 284]),)\n",
            "new outliers are  [125. 181. 284.]\n",
            "outliers for  Milk : (array([ 23,  47,  61,  85,  86, 183]),)\n",
            "new outliers are  [ 23.  47.  61.  85.  86. 125. 181. 183. 284.]\n",
            "outliers for  Grocery : (array([ 47,  61,  85, 333]),)\n",
            "new outliers are  [ 23.  47.  61.  85.  86. 125. 181. 183. 284. 333.]\n",
            "outliers for  Frozen : (array([ 93, 183, 325]),)\n",
            "new outliers are  [ 23.  47.  61.  85.  86.  93. 125. 181. 183. 284. 325. 333.]\n",
            "outliers for  Detergents_Paper : (array([ 47,  61,  65,  85, 333]),)\n",
            "new outliers are  [ 23.  47.  61.  65.  85.  86.  93. 125. 181. 183. 284. 325. 333.]\n",
            "outliers for  Delicassen : (array([ 23,  71,  87, 183]),)\n",
            "new outliers are  [ 23.  47.  61.  65.  71.  85.  86.  87.  93. 125. 181. 183. 284. 325.\n",
            " 333.]\n"
          ],
          "name": "stdout"
        }
      ]
    },
    {
      "cell_type": "code",
      "metadata": {
        "id": "YpDMm6jprg-w",
        "colab_type": "code",
        "colab": {}
      },
      "source": [
        "dat=dat.drop(dat.index[outliers.astype(int)])"
      ],
      "execution_count": 0,
      "outputs": []
    },
    {
      "cell_type": "markdown",
      "metadata": {
        "id": "xulAyZSoWB4i",
        "colab_type": "text"
      },
      "source": [
        "#Hierachical clustering\n",
        "\n",
        "###First all the variables are normalised. These prevents differences in scale from messing up our clustering"
      ]
    },
    {
      "cell_type": "code",
      "metadata": {
        "id": "ig0EIqO4vYdY",
        "colab_type": "code",
        "colab": {}
      },
      "source": [
        "#First,load preprocessing from sklearn\n",
        "from sklearn import preprocessing\n",
        "x = dat.values\n",
        "min_max_scaler = preprocessing.StandardScaler()\n",
        "x_scaled = min_max_scaler.fit_transform(x)\n",
        "df = pd.DataFrame(x_scaled,columns=dat.columns)"
      ],
      "execution_count": 0,
      "outputs": []
    },
    {
      "cell_type": "markdown",
      "metadata": {
        "id": "vYIRfjKJW4Zn",
        "colab_type": "text"
      },
      "source": [
        "###The normalised data look like"
      ]
    },
    {
      "cell_type": "code",
      "metadata": {
        "id": "pguPG_JUvdIt",
        "colab_type": "code",
        "outputId": "123f1a00-150a-426b-e3c9-f1789c05ad9e",
        "colab": {
          "base_uri": "https://localhost:8080/",
          "height": 226
        }
      },
      "source": [
        "df.head()"
      ],
      "execution_count": 0,
      "outputs": [
        {
          "output_type": "execute_result",
          "data": {
            "text/html": [
              "<div>\n",
              "<style scoped>\n",
              "    .dataframe tbody tr th:only-of-type {\n",
              "        vertical-align: middle;\n",
              "    }\n",
              "\n",
              "    .dataframe tbody tr th {\n",
              "        vertical-align: top;\n",
              "    }\n",
              "\n",
              "    .dataframe thead th {\n",
              "        text-align: right;\n",
              "    }\n",
              "</style>\n",
              "<table border=\"1\" class=\"dataframe\">\n",
              "  <thead>\n",
              "    <tr style=\"text-align: right;\">\n",
              "      <th></th>\n",
              "      <th>Channel</th>\n",
              "      <th>Region</th>\n",
              "      <th>Fresh</th>\n",
              "      <th>Milk</th>\n",
              "      <th>Grocery</th>\n",
              "      <th>Frozen</th>\n",
              "      <th>Detergents_Paper</th>\n",
              "      <th>Delicassen</th>\n",
              "    </tr>\n",
              "  </thead>\n",
              "  <tbody>\n",
              "    <tr>\n",
              "      <th>0</th>\n",
              "      <td>1.465656</td>\n",
              "      <td>0.598855</td>\n",
              "      <td>0.145323</td>\n",
              "      <td>0.906348</td>\n",
              "      <td>0.064647</td>\n",
              "      <td>-0.777870</td>\n",
              "      <td>0.040019</td>\n",
              "      <td>0.049449</td>\n",
              "    </tr>\n",
              "    <tr>\n",
              "      <th>1</th>\n",
              "      <td>1.465656</td>\n",
              "      <td>0.598855</td>\n",
              "      <td>-0.381089</td>\n",
              "      <td>0.936993</td>\n",
              "      <td>0.350437</td>\n",
              "      <td>-0.293367</td>\n",
              "      <td>0.213052</td>\n",
              "      <td>0.401536</td>\n",
              "    </tr>\n",
              "    <tr>\n",
              "      <th>2</th>\n",
              "      <td>1.465656</td>\n",
              "      <td>0.598855</td>\n",
              "      <td>-0.447125</td>\n",
              "      <td>0.737604</td>\n",
              "      <td>0.082162</td>\n",
              "      <td>-0.092116</td>\n",
              "      <td>0.275389</td>\n",
              "      <td>5.279311</td>\n",
              "    </tr>\n",
              "    <tr>\n",
              "      <th>3</th>\n",
              "      <td>-0.682288</td>\n",
              "      <td>0.598855</td>\n",
              "      <td>0.201229</td>\n",
              "      <td>-0.777117</td>\n",
              "      <td>-0.410958</td>\n",
              "      <td>1.159518</td>\n",
              "      <td>-0.565738</td>\n",
              "      <td>0.411183</td>\n",
              "    </tr>\n",
              "    <tr>\n",
              "      <th>4</th>\n",
              "      <td>1.465656</td>\n",
              "      <td>0.598855</td>\n",
              "      <td>1.078270</td>\n",
              "      <td>0.061432</td>\n",
              "      <td>0.012957</td>\n",
              "      <td>0.380494</td>\n",
              "      <td>-0.210726</td>\n",
              "      <td>3.141868</td>\n",
              "    </tr>\n",
              "  </tbody>\n",
              "</table>\n",
              "</div>"
            ],
            "text/plain": [
              "    Channel    Region     Fresh  ...    Frozen  Detergents_Paper  Delicassen\n",
              "0  1.465656  0.598855  0.145323  ... -0.777870          0.040019    0.049449\n",
              "1  1.465656  0.598855 -0.381089  ... -0.293367          0.213052    0.401536\n",
              "2  1.465656  0.598855 -0.447125  ... -0.092116          0.275389    5.279311\n",
              "3 -0.682288  0.598855  0.201229  ...  1.159518         -0.565738    0.411183\n",
              "4  1.465656  0.598855  1.078270  ...  0.380494         -0.210726    3.141868\n",
              "\n",
              "[5 rows x 8 columns]"
            ]
          },
          "metadata": {
            "tags": []
          },
          "execution_count": 9
        }
      ]
    },
    {
      "cell_type": "markdown",
      "metadata": {
        "id": "f3OgtYGp7-fY",
        "colab_type": "text"
      },
      "source": [
        "###Next we create and display a dendrogram. It is clear that there exist 2 groups, colored with green and red."
      ]
    },
    {
      "cell_type": "code",
      "metadata": {
        "id": "-rkd1lvex_X-",
        "colab_type": "code",
        "outputId": "3721e6d6-a49c-4acc-d5fd-8203f75a6c8e",
        "colab": {
          "base_uri": "https://localhost:8080/",
          "height": 268
        }
      },
      "source": [
        "#Load scipy.cluster.hierarchy\n",
        "import scipy.cluster.hierarchy as hc\n",
        "dend = hc.dendrogram(hc.linkage(df, method='ward'))\n",
        "#plt.axhline can be used to display a horizontal line at a specific height\n",
        "#plt.axhline(y=6, color='r', linestyle='--')"
      ],
      "execution_count": 0,
      "outputs": [
        {
          "output_type": "display_data",
          "data": {
            "image/png": "[encoded data removed]",
            "text/plain": [
              "<Figure size 432x288 with 1 Axes>"
            ]
          },
          "metadata": {
            "tags": []
          }
        }
      ]
    },
    {
      "cell_type": "code",
      "metadata": {
        "id": "E5cnTc7zzMhX",
        "colab_type": "code",
        "outputId": "0912276e-31e3-4242-829c-4cd959f3bc8d",
        "colab": {
          "base_uri": "https://localhost:8080/",
          "height": 384
        }
      },
      "source": [
        "from sklearn.cluster import AgglomerativeClustering\n",
        "cluster = AgglomerativeClustering(n_clusters=2, affinity='euclidean', linkage='ward')  \n",
        "cluster.fit_predict(df)"
      ],
      "execution_count": 0,
      "outputs": [
        {
          "output_type": "execute_result",
          "data": {
            "text/plain": [
              "array([0, 0, 0, 1, 0, 0, 0, 0, 1, 0, 0, 0, 0, 0, 0, 1, 0, 0, 0, 1, 0, 1,\n",
              "       0, 0, 0, 1, 1, 0, 1, 0, 1, 1, 1, 1, 0, 0, 0, 0, 1, 0, 0, 0, 0, 0,\n",
              "       0, 0, 0, 0, 1, 1, 0, 0, 1, 1, 0, 0, 1, 1, 0, 0, 0, 1, 1, 0, 1, 1,\n",
              "       1, 1, 0, 0, 1, 1, 0, 1, 1, 1, 0, 0, 1, 0, 1, 0, 1, 1, 0, 0, 1, 0,\n",
              "       1, 1, 1, 0, 0, 0, 1, 1, 1, 0, 0, 0, 0, 1, 0, 1, 1, 1, 1, 1, 1, 1,\n",
              "       1, 1, 1, 1, 0, 1, 1, 0, 1, 1, 1, 1, 1, 1, 1, 1, 1, 1, 0, 1, 0, 1,\n",
              "       1, 1, 1, 0, 1, 1, 1, 1, 1, 1, 1, 1, 1, 0, 0, 1, 0, 0, 0, 1, 1, 0,\n",
              "       0, 0, 0, 1, 1, 1, 0, 0, 1, 0, 1, 0, 1, 0, 1, 1, 0, 1, 1, 1, 1, 1,\n",
              "       0, 0, 1, 1, 1, 0, 1, 1, 1, 0, 1, 1, 0, 0, 0, 1, 1, 0, 1, 0, 1, 0,\n",
              "       1, 0, 1, 1, 0, 1, 0, 1, 0, 1, 1, 1, 1, 1, 1, 1, 0, 1, 1, 1, 1, 1,\n",
              "       1, 1, 1, 1, 1, 1, 1, 1, 1, 1, 1, 1, 1, 0, 1, 1, 1, 1, 1, 0, 1, 1,\n",
              "       0, 1, 1, 1, 1, 1, 1, 1, 1, 1, 0, 0, 0, 1, 0, 1, 1, 1, 1, 1, 1, 1,\n",
              "       0, 1, 1, 0, 1, 0, 1, 1, 1, 1, 1, 1, 1, 1, 1, 1, 0, 1, 0, 1, 0, 0,\n",
              "       1, 0, 0, 0, 0, 0, 0, 0, 1, 1, 0, 1, 1, 0, 1, 1, 0, 1, 1, 1, 0, 1,\n",
              "       1, 1, 1, 1, 1, 1, 1, 1, 1, 0, 1, 1, 0, 1, 1, 1, 1, 0, 0, 1, 0, 1,\n",
              "       1, 0, 0, 1, 0, 1, 0, 1, 0, 1, 1, 1, 0, 0, 1, 1, 1, 1, 1, 1, 0, 1,\n",
              "       1, 1, 1, 0, 1, 0, 0, 1, 1, 0, 1, 1, 0, 1, 1, 0, 1, 0, 1, 1, 1, 1,\n",
              "       1, 1, 1, 1, 1, 1, 1, 0, 1, 1, 1, 1, 1, 1, 1, 1, 1, 1, 0, 0, 0, 1,\n",
              "       0, 1, 1, 1, 0, 0, 1, 0, 1, 1, 0, 1, 0, 0, 1, 1, 1, 1, 1, 1, 1, 1,\n",
              "       1, 1, 1, 1, 0, 1, 1])"
            ]
          },
          "metadata": {
            "tags": []
          },
          "execution_count": 11
        }
      ]
    },
    {
      "cell_type": "markdown",
      "metadata": {
        "id": "7iBBpt8u8VZl",
        "colab_type": "text"
      },
      "source": [
        "###After performing a hierarchical clustering with 2 groups, we can profile each group.\n",
        "###A way to do this is to create scatterplots where datapoints from the two groups are displayed with differen colors.\n",
        "###For example, delw we create a scatterplot for variables Milk and Grocery."
      ]
    },
    {
      "cell_type": "code",
      "metadata": {
        "id": "k9X-VAh60ImU",
        "colab_type": "code",
        "outputId": "5be4db1e-43a9-436f-a35a-be15aa3ee04c",
        "colab": {
          "base_uri": "https://localhost:8080/",
          "height": 450
        }
      },
      "source": [
        "plt.figure(figsize=(10, 7))  \n",
        "plt.scatter(df['Milk'], df['Grocery'], c=cluster.labels_) "
      ],
      "execution_count": 0,
      "outputs": [
        {
          "output_type": "execute_result",
          "data": {
            "text/plain": [
              "<matplotlib.collections.PathCollection at 0x7fb1208ea240>"
            ]
          },
          "metadata": {
            "tags": []
          },
          "execution_count": 12
        },
        {
          "output_type": "display_data",
          "data": {
            "image/png": "[encoded data removed]",
            "text/plain": [
              "<Figure size 720x504 with 1 Axes>"
            ]
          },
          "metadata": {
            "tags": []
          }
        }
      ]
    },
    {
      "cell_type": "markdown",
      "metadata": {
        "id": "iu66LbfuMGKR",
        "colab_type": "text"
      },
      "source": [
        "#K-means\n",
        "###Before applying k-means, we should point out that it is good practise to disregard highly correlated variables when clustering. This is because their importance will be hightened if we include all of them.\n",
        "###The same applies to categorical data, hence we will omit Region and Channel varaiables. \n",
        "###The correlations plot below, shows that Milk is highly correlated with both Grocery and Detergents_Paper. We will exclude the last two from our clusterin data. "
      ]
    },
    {
      "cell_type": "code",
      "metadata": {
        "id": "x1OJ9K2AN9mV",
        "colab_type": "code",
        "outputId": "439d6ffb-5e4a-41ae-f9e8-173626239436",
        "colab": {
          "base_uri": "https://localhost:8080/",
          "height": 367
        }
      },
      "source": [
        "corr = dat.iloc[:,2:8].corr()\n",
        "#corr.style.background_gradient(cmap='coolwarm').set_precision(2)\n",
        "sns.heatmap(corr, annot = True)"
      ],
      "execution_count": 0,
      "outputs": [
        {
          "output_type": "execute_result",
          "data": {
            "text/plain": [
              "<matplotlib.axes._subplots.AxesSubplot at 0x7fb12060a240>"
            ]
          },
          "metadata": {
            "tags": []
          },
          "execution_count": 13
        },
        {
          "output_type": "display_data",
          "data": {
            "image/png": "[encoded data removed]",
            "text/plain": [
              "<Figure size 432x288 with 2 Axes>"
            ]
          },
          "metadata": {
            "tags": []
          }
        }
      ]
    },
    {
      "cell_type": "code",
      "metadata": {
        "id": "brI-mbPaSTfE",
        "colab_type": "code",
        "colab": {}
      },
      "source": [
        "#Exclude Region, Channel, Groceries and Detergents_Paper variables from df dataframe\n",
        "df2=df.iloc[:,[2,3,5,7]]"
      ],
      "execution_count": 0,
      "outputs": []
    },
    {
      "cell_type": "markdown",
      "metadata": {
        "id": "7WkgLZrRF2E_",
        "colab_type": "text"
      },
      "source": [
        "###To perform k-means clusterring, firstly we load the necessary libraries"
      ]
    },
    {
      "cell_type": "code",
      "metadata": {
        "id": "c-5yDX1A0iy3",
        "colab_type": "code",
        "colab": {}
      },
      "source": [
        "from sklearn.cluster import KMeans"
      ],
      "execution_count": 0,
      "outputs": []
    },
    {
      "cell_type": "markdown",
      "metadata": {
        "id": "9sQKNqAFGhAg",
        "colab_type": "text"
      },
      "source": [
        "###One critical decision is the number of clusters that k-means will create. For this we use the **elbow method**.\n",
        "###For this, we apply k-means and create clustering solutions for 2,3,..,10 clusters.\n",
        "###Then we plot the sum of squared distances of data to their closest cluster center \n",
        "###According to the elbow method the best number of clusters is where an elbow appears at the graph."
      ]
    },
    {
      "cell_type": "code",
      "metadata": {
        "id": "GUyIWKUCIigY",
        "colab_type": "code",
        "outputId": "c63c742b-24f4-45c3-c707-d40a48da7097",
        "colab": {
          "base_uri": "https://localhost:8080/",
          "height": 296
        }
      },
      "source": [
        "wcss = []\n",
        "for i in range(2, 10):\n",
        "    kmeans = KMeans(n_clusters=i, init='k-means++', max_iter=300, n_init=10, random_state=0)\n",
        "    kmeans.fit(df2)\n",
        "    wcss.append(kmeans.inertia_)\n",
        "plt.plot(range(2, 10), wcss)\n",
        "plt.title('Elbow Method')\n",
        "plt.xlabel('Number of clusters')\n",
        "plt.ylabel('Sum of sq distances of data to their closest center')\n",
        "plt.show()"
      ],
      "execution_count": 0,
      "outputs": [
        {
          "output_type": "display_data",
          "data": {
            "image/png": "[encoded data removed]",
            "text/plain": [
              "<Figure size 432x288 with 1 Axes>"
            ]
          },
          "metadata": {
            "tags": []
          }
        }
      ]
    },
    {
      "cell_type": "markdown",
      "metadata": {
        "id": "xTb4qztR9_ce",
        "colab_type": "text"
      },
      "source": [
        "###Unfortunatelly, the best number of clusters is not clear from the results of the elbow method. Possible candidates are 3, 5 and 6.\n",
        "###Normaly, we would test all the above by profilling the clusters and making a business driven decission.\n",
        "###For our purposes, we will examine only the slution with 3 groups."
      ]
    },
    {
      "cell_type": "code",
      "metadata": {
        "id": "1GYVKms_JAfb",
        "colab_type": "code",
        "outputId": "75e13ec8-ddfc-4c0b-93ca-a401825658ef",
        "colab": {
          "base_uri": "https://localhost:8080/",
          "height": 72
        }
      },
      "source": [
        "kmeans = KMeans(n_clusters=3, init='k-means++', max_iter=300, n_init=10, random_state=0)\n",
        "kmeans.fit(df2)"
      ],
      "execution_count": 0,
      "outputs": [
        {
          "output_type": "execute_result",
          "data": {
            "text/plain": [
              "KMeans(algorithm='auto', copy_x=True, init='k-means++', max_iter=300,\n",
              "       n_clusters=3, n_init=10, n_jobs=None, precompute_distances='auto',\n",
              "       random_state=0, tol=0.0001, verbose=0)"
            ]
          },
          "metadata": {
            "tags": []
          },
          "execution_count": 17
        }
      ]
    },
    {
      "cell_type": "markdown",
      "metadata": {
        "id": "FJrQap7E_aAm",
        "colab_type": "text"
      },
      "source": [
        "###In ordder to best understand the clusters, we append a column indicating the cluster of each record to the non-ormalised data set."
      ]
    },
    {
      "cell_type": "code",
      "metadata": {
        "id": "c5xfa9GiA1SE",
        "colab_type": "code",
        "outputId": "72aeb87f-6696-4370-8dc7-1d0c7d11cd7e",
        "colab": {
          "base_uri": "https://localhost:8080/",
          "height": 226
        }
      },
      "source": [
        "dat['cluster']=kmeans.labels_\n",
        "dat.head()"
      ],
      "execution_count": 0,
      "outputs": [
        {
          "output_type": "execute_result",
          "data": {
            "text/html": [
              "<div>\n",
              "<style scoped>\n",
              "    .dataframe tbody tr th:only-of-type {\n",
              "        vertical-align: middle;\n",
              "    }\n",
              "\n",
              "    .dataframe tbody tr th {\n",
              "        vertical-align: top;\n",
              "    }\n",
              "\n",
              "    .dataframe thead th {\n",
              "        text-align: right;\n",
              "    }\n",
              "</style>\n",
              "<table border=\"1\" class=\"dataframe\">\n",
              "  <thead>\n",
              "    <tr style=\"text-align: right;\">\n",
              "      <th></th>\n",
              "      <th>Channel</th>\n",
              "      <th>Region</th>\n",
              "      <th>Fresh</th>\n",
              "      <th>Milk</th>\n",
              "      <th>Grocery</th>\n",
              "      <th>Frozen</th>\n",
              "      <th>Detergents_Paper</th>\n",
              "      <th>Delicassen</th>\n",
              "      <th>cluster</th>\n",
              "    </tr>\n",
              "  </thead>\n",
              "  <tbody>\n",
              "    <tr>\n",
              "      <th>0</th>\n",
              "      <td>2</td>\n",
              "      <td>3</td>\n",
              "      <td>12669</td>\n",
              "      <td>9656</td>\n",
              "      <td>7561</td>\n",
              "      <td>214</td>\n",
              "      <td>2674</td>\n",
              "      <td>1338</td>\n",
              "      <td>0</td>\n",
              "    </tr>\n",
              "    <tr>\n",
              "      <th>1</th>\n",
              "      <td>2</td>\n",
              "      <td>3</td>\n",
              "      <td>7057</td>\n",
              "      <td>9810</td>\n",
              "      <td>9568</td>\n",
              "      <td>1762</td>\n",
              "      <td>3293</td>\n",
              "      <td>1776</td>\n",
              "      <td>1</td>\n",
              "    </tr>\n",
              "    <tr>\n",
              "      <th>2</th>\n",
              "      <td>2</td>\n",
              "      <td>3</td>\n",
              "      <td>6353</td>\n",
              "      <td>8808</td>\n",
              "      <td>7684</td>\n",
              "      <td>2405</td>\n",
              "      <td>3516</td>\n",
              "      <td>7844</td>\n",
              "      <td>1</td>\n",
              "    </tr>\n",
              "    <tr>\n",
              "      <th>3</th>\n",
              "      <td>1</td>\n",
              "      <td>3</td>\n",
              "      <td>13265</td>\n",
              "      <td>1196</td>\n",
              "      <td>4221</td>\n",
              "      <td>6404</td>\n",
              "      <td>507</td>\n",
              "      <td>1788</td>\n",
              "      <td>2</td>\n",
              "    </tr>\n",
              "    <tr>\n",
              "      <th>4</th>\n",
              "      <td>2</td>\n",
              "      <td>3</td>\n",
              "      <td>22615</td>\n",
              "      <td>5410</td>\n",
              "      <td>7198</td>\n",
              "      <td>3915</td>\n",
              "      <td>1777</td>\n",
              "      <td>5185</td>\n",
              "      <td>1</td>\n",
              "    </tr>\n",
              "  </tbody>\n",
              "</table>\n",
              "</div>"
            ],
            "text/plain": [
              "   Channel  Region  Fresh  Milk  ...  Frozen  Detergents_Paper  Delicassen  cluster\n",
              "0        2       3  12669  9656  ...     214              2674        1338        0\n",
              "1        2       3   7057  9810  ...    1762              3293        1776        1\n",
              "2        2       3   6353  8808  ...    2405              3516        7844        1\n",
              "3        1       3  13265  1196  ...    6404               507        1788        2\n",
              "4        2       3  22615  5410  ...    3915              1777        5185        1\n",
              "\n",
              "[5 rows x 9 columns]"
            ]
          },
          "metadata": {
            "tags": []
          },
          "execution_count": 18
        }
      ]
    },
    {
      "cell_type": "markdown",
      "metadata": {
        "id": "ShmiVcKhMP3Z",
        "colab_type": "text"
      },
      "source": [
        "###Display clusters' size and median for variables Fresh, Milk, Fresh, Frozen and Delicassen"
      ]
    },
    {
      "cell_type": "code",
      "metadata": {
        "id": "JEeSA58aBA2o",
        "colab_type": "code",
        "outputId": "31a384ea-188b-4e62-fff9-ff09e3e706a5",
        "colab": {
          "base_uri": "https://localhost:8080/",
          "height": 193
        }
      },
      "source": [
        "print('Records per cluster')\n",
        "#dat.groupby('cluster')['cluster'].count()\n",
        "dat.groupby('cluster').agg({\"cluster\":\"count\",\n",
        "                            \"Fresh\":\"median\",\"Milk\":\"median\",\"Fresh\":\"median\",\"Frozen\":\"median\",\"Fresh\":\"median\",\"Delicassen\":\"median\",\"Grocery\":\"median\",\"Detergents_Paper\":\"median\"})"
      ],
      "execution_count": 0,
      "outputs": [
        {
          "output_type": "stream",
          "text": [
            "Records per cluster\n"
          ],
          "name": "stdout"
        },
        {
          "output_type": "execute_result",
          "data": {
            "text/html": [
              "<div>\n",
              "<style scoped>\n",
              "    .dataframe tbody tr th:only-of-type {\n",
              "        vertical-align: middle;\n",
              "    }\n",
              "\n",
              "    .dataframe tbody tr th {\n",
              "        vertical-align: top;\n",
              "    }\n",
              "\n",
              "    .dataframe thead th {\n",
              "        text-align: right;\n",
              "    }\n",
              "</style>\n",
              "<table border=\"1\" class=\"dataframe\">\n",
              "  <thead>\n",
              "    <tr style=\"text-align: right;\">\n",
              "      <th></th>\n",
              "      <th>cluster</th>\n",
              "      <th>Fresh</th>\n",
              "      <th>Milk</th>\n",
              "      <th>Frozen</th>\n",
              "      <th>Delicassen</th>\n",
              "      <th>Grocery</th>\n",
              "      <th>Detergents_Paper</th>\n",
              "    </tr>\n",
              "    <tr>\n",
              "      <th>cluster</th>\n",
              "      <th></th>\n",
              "      <th></th>\n",
              "      <th></th>\n",
              "      <th></th>\n",
              "      <th></th>\n",
              "      <th></th>\n",
              "      <th></th>\n",
              "    </tr>\n",
              "  </thead>\n",
              "  <tbody>\n",
              "    <tr>\n",
              "      <th>0</th>\n",
              "      <td>269</td>\n",
              "      <td>6211</td>\n",
              "      <td>2521</td>\n",
              "      <td>1069</td>\n",
              "      <td>654</td>\n",
              "      <td>3450</td>\n",
              "      <td>706</td>\n",
              "    </tr>\n",
              "    <tr>\n",
              "      <th>1</th>\n",
              "      <td>75</td>\n",
              "      <td>6134</td>\n",
              "      <td>11093</td>\n",
              "      <td>1535</td>\n",
              "      <td>2563</td>\n",
              "      <td>14855</td>\n",
              "      <td>5079</td>\n",
              "    </tr>\n",
              "    <tr>\n",
              "      <th>2</th>\n",
              "      <td>81</td>\n",
              "      <td>23632</td>\n",
              "      <td>2770</td>\n",
              "      <td>6422</td>\n",
              "      <td>1365</td>\n",
              "      <td>2961</td>\n",
              "      <td>411</td>\n",
              "    </tr>\n",
              "  </tbody>\n",
              "</table>\n",
              "</div>"
            ],
            "text/plain": [
              "         cluster  Fresh   Milk  Frozen  Delicassen  Grocery  Detergents_Paper\n",
              "cluster                                                                      \n",
              "0            269   6211   2521    1069         654     3450               706\n",
              "1             75   6134  11093    1535        2563    14855              5079\n",
              "2             81  23632   2770    6422        1365     2961               411"
            ]
          },
          "metadata": {
            "tags": []
          },
          "execution_count": 22
        }
      ]
    },
    {
      "cell_type": "markdown",
      "metadata": {
        "id": "TBilIJ2KMpC-",
        "colab_type": "text"
      },
      "source": [
        "###Create a barplot dispalying number of records for each Channel per cluster "
      ]
    },
    {
      "cell_type": "code",
      "metadata": {
        "id": "-XNKK-XnGq0C",
        "colab_type": "code",
        "outputId": "f262b549-64ee-4337-de21-53fd75672193",
        "colab": {
          "base_uri": "https://localhost:8080/",
          "height": 310
        }
      },
      "source": [
        "dat_agg=dat.groupby(['cluster','Channel']).count() #agg({\"cluster\":\"median\"})\n",
        "dat_agg['Frozen'].unstack().plot(kind='bar',title='Channel per cluster')"
      ],
      "execution_count": 0,
      "outputs": [
        {
          "output_type": "execute_result",
          "data": {
            "text/plain": [
              "<matplotlib.axes._subplots.AxesSubplot at 0x7fb11f4bcc18>"
            ]
          },
          "metadata": {
            "tags": []
          },
          "execution_count": 20
        },
        {
          "output_type": "display_data",
          "data": {
            "image/png": "[encoded data removed]",
            "text/plain": [
              "<Figure size 432x288 with 1 Axes>"
            ]
          },
          "metadata": {
            "tags": []
          }
        }
      ]
    },
    {
      "cell_type": "markdown",
      "metadata": {
        "id": "lWxGRnvYM6cT",
        "colab_type": "text"
      },
      "source": [
        "###Create a barplot dispalying number of records for each Region per cluster"
      ]
    },
    {
      "cell_type": "code",
      "metadata": {
        "id": "m4kRXgsbKXAO",
        "colab_type": "code",
        "outputId": "dd179f1b-ecc4-4119-bc77-5cfe0a3d3566",
        "colab": {
          "base_uri": "https://localhost:8080/",
          "height": 310
        }
      },
      "source": [
        "dat_agg=dat.groupby(['cluster','Region']).count() #agg({\"cluster\":\"median\"})\n",
        "dat_agg['Frozen'].unstack().plot(kind='bar',title='Region per cluster')"
      ],
      "execution_count": 0,
      "outputs": [
        {
          "output_type": "execute_result",
          "data": {
            "text/plain": [
              "<matplotlib.axes._subplots.AxesSubplot at 0x7fb11f589f60>"
            ]
          },
          "metadata": {
            "tags": []
          },
          "execution_count": 21
        },
        {
          "output_type": "display_data",
          "data": {
            "image/png": "[encoded data removed]",
            "text/plain": [
              "<Figure size 432x288 with 1 Axes>"
            ]
          },
          "metadata": {
            "tags": []
          }
        }
      ]
    },
    {
      "cell_type": "code",
      "metadata": {
        "id": "qMu-YVeSMLpm",
        "colab_type": "code",
        "colab": {}
      },
      "source": [
        ""
      ],
      "execution_count": 0,
      "outputs": []
    }
  ]
}