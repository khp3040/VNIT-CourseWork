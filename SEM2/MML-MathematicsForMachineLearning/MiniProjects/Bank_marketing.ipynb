{
  "nbformat": 4,
  "nbformat_minor": 0,
  "metadata": {
    "colab": {
      "name": "Bank marketing.ipynb",
      "provenance": [],
      "collapsed_sections": [],
      "include_colab_link": true
    },
    "kernelspec": {
      "name": "python3",
      "display_name": "Python 3"
    }
  },
  "cells": [
    {
      "cell_type": "markdown",
      "metadata": {
        "id": "view-in-github",
        "colab_type": "text"
      },
      "source": [
        "<a href=\"https://colab.research.google.com/github/dpanagop/ML_and_AI_examples/blob/master/Bank_marketing.ipynb\" target=\"_parent\"><img src=\"https://colab.research.google.com/assets/colab-badge.svg\" alt=\"Open In Colab\"/></a>"
      ]
    },
    {
      "cell_type": "markdown",
      "metadata": {
        "id": "mKxuOA3sbMId",
        "colab_type": "text"
      },
      "source": [
        "#Bank Marketing\n",
        "##Classifying unbalanced datasets\n",
        "\n",
        "###We will use [\"Bank Marketing\"](https://archive.ics.uci.edu/ml/datasets/Bank+Marketing) dataset from UCI. It is about a marketing campaing of Portuguese banking institution aiming to sell term deposits.\n",
        "Dataset citation: S. Moro, P. Cortez and P. Rita. A Data-Driven Approach to Predict the Success of Bank Telemarketing. Decision Support Systems, Elsevier, 62:22-31, June 2014\n",
        "\n",
        "###First we download the data from UCI"
      ]
    },
    {
      "cell_type": "code",
      "metadata": {
        "id": "Ifa7bliTcNug",
        "colab_type": "code",
        "colab": {}
      },
      "source": [
        "#Load data set\n",
        "!wget --quiet -P  / https://raw.githubusercontent.com/dpanagop/ML_and_AI_examples/master/data/bank-additional-full_test.csv"
      ],
      "execution_count": 0,
      "outputs": []
    },
    {
      "cell_type": "markdown",
      "metadata": {
        "id": "hcqBo_FJcerm",
        "colab_type": "text"
      },
      "source": [
        "###Then we load the necessary libraries"
      ]
    },
    {
      "cell_type": "code",
      "metadata": {
        "id": "gEhEQF7ndoQp",
        "colab_type": "code",
        "colab": {}
      },
      "source": [
        "#load libraries \n",
        "import numpy as np\n",
        "import pandas as pd\n",
        "import seaborn as sns\n",
        "import matplotlib.pyplot as plt \n",
        "from sklearn.model_selection import train_test_split\n",
        "from sklearn.linear_model import LogisticRegression\n",
        "from sklearn import metrics\n",
        "from sklearn.metrics import confusion_matrix\n",
        "from sklearn.metrics import roc_auc_score\n",
        "from sklearn.metrics import roc_curve"
      ],
      "execution_count": 0,
      "outputs": []
    },
    {
      "cell_type": "markdown",
      "metadata": {
        "id": "tMqE4Mcjco5j",
        "colab_type": "text"
      },
      "source": [
        "###and store the data into a variable named dat"
      ]
    },
    {
      "cell_type": "code",
      "metadata": {
        "id": "xNDigB8jd2eB",
        "colab_type": "code",
        "colab": {}
      },
      "source": [
        "dat=pd.read_csv(\"bank-additional-full_test.csv\",sep=';', error_bad_lines=False)"
      ],
      "execution_count": 0,
      "outputs": []
    },
    {
      "cell_type": "markdown",
      "metadata": {
        "id": "3LI7FcJfcxAg",
        "colab_type": "text"
      },
      "source": [
        "###The first rows of the dataset are displayed below"
      ]
    },
    {
      "cell_type": "code",
      "metadata": {
        "id": "GrWglXmOeAyV",
        "colab_type": "code",
        "outputId": "adcd3039-00bd-4479-ab36-b630b853db3b",
        "colab": {
          "base_uri": "https://localhost:8080/",
          "height": 226
        }
      },
      "source": [
        "dat.head()"
      ],
      "execution_count": 0,
      "outputs": [
        {
          "output_type": "execute_result",
          "data": {
            "text/html": [
              "<div>\n",
              "<style scoped>\n",
              "    .dataframe tbody tr th:only-of-type {\n",
              "        vertical-align: middle;\n",
              "    }\n",
              "\n",
              "    .dataframe tbody tr th {\n",
              "        vertical-align: top;\n",
              "    }\n",
              "\n",
              "    .dataframe thead th {\n",
              "        text-align: right;\n",
              "    }\n",
              "</style>\n",
              "<table border=\"1\" class=\"dataframe\">\n",
              "  <thead>\n",
              "    <tr style=\"text-align: right;\">\n",
              "      <th></th>\n",
              "      <th>age</th>\n",
              "      <th>job</th>\n",
              "      <th>marital</th>\n",
              "      <th>education</th>\n",
              "      <th>default</th>\n",
              "      <th>housing</th>\n",
              "      <th>loan</th>\n",
              "      <th>contact</th>\n",
              "      <th>month</th>\n",
              "      <th>day_of_week</th>\n",
              "      <th>duration</th>\n",
              "      <th>campaign</th>\n",
              "      <th>pdays</th>\n",
              "      <th>previous</th>\n",
              "      <th>poutcome</th>\n",
              "      <th>emp.var.rate</th>\n",
              "      <th>cons.price.idx</th>\n",
              "      <th>cons.conf.idx</th>\n",
              "      <th>euribor3m</th>\n",
              "      <th>nr.employed</th>\n",
              "      <th>y</th>\n",
              "    </tr>\n",
              "  </thead>\n",
              "  <tbody>\n",
              "    <tr>\n",
              "      <th>0</th>\n",
              "      <td>56</td>\n",
              "      <td>housemaid</td>\n",
              "      <td>married</td>\n",
              "      <td>basic.4y</td>\n",
              "      <td>no</td>\n",
              "      <td>no</td>\n",
              "      <td>no</td>\n",
              "      <td>telephone</td>\n",
              "      <td>may</td>\n",
              "      <td>mon</td>\n",
              "      <td>261</td>\n",
              "      <td>1</td>\n",
              "      <td>999</td>\n",
              "      <td>0</td>\n",
              "      <td>nonexistent</td>\n",
              "      <td>1.1</td>\n",
              "      <td>93.994</td>\n",
              "      <td>-36.4</td>\n",
              "      <td>4.857</td>\n",
              "      <td>5191.0</td>\n",
              "      <td>no</td>\n",
              "    </tr>\n",
              "    <tr>\n",
              "      <th>1</th>\n",
              "      <td>57</td>\n",
              "      <td>services</td>\n",
              "      <td>married</td>\n",
              "      <td>high.school</td>\n",
              "      <td>unknown</td>\n",
              "      <td>no</td>\n",
              "      <td>no</td>\n",
              "      <td>telephone</td>\n",
              "      <td>may</td>\n",
              "      <td>mon</td>\n",
              "      <td>149</td>\n",
              "      <td>1</td>\n",
              "      <td>999</td>\n",
              "      <td>0</td>\n",
              "      <td>nonexistent</td>\n",
              "      <td>1.1</td>\n",
              "      <td>93.994</td>\n",
              "      <td>-36.4</td>\n",
              "      <td>4.857</td>\n",
              "      <td>5191.0</td>\n",
              "      <td>no</td>\n",
              "    </tr>\n",
              "    <tr>\n",
              "      <th>2</th>\n",
              "      <td>37</td>\n",
              "      <td>services</td>\n",
              "      <td>married</td>\n",
              "      <td>high.school</td>\n",
              "      <td>no</td>\n",
              "      <td>yes</td>\n",
              "      <td>no</td>\n",
              "      <td>telephone</td>\n",
              "      <td>may</td>\n",
              "      <td>mon</td>\n",
              "      <td>226</td>\n",
              "      <td>1</td>\n",
              "      <td>999</td>\n",
              "      <td>0</td>\n",
              "      <td>nonexistent</td>\n",
              "      <td>1.1</td>\n",
              "      <td>93.994</td>\n",
              "      <td>-36.4</td>\n",
              "      <td>4.857</td>\n",
              "      <td>5191.0</td>\n",
              "      <td>no</td>\n",
              "    </tr>\n",
              "    <tr>\n",
              "      <th>3</th>\n",
              "      <td>40</td>\n",
              "      <td>admin.</td>\n",
              "      <td>married</td>\n",
              "      <td>basic.6y</td>\n",
              "      <td>no</td>\n",
              "      <td>no</td>\n",
              "      <td>no</td>\n",
              "      <td>telephone</td>\n",
              "      <td>may</td>\n",
              "      <td>mon</td>\n",
              "      <td>151</td>\n",
              "      <td>1</td>\n",
              "      <td>999</td>\n",
              "      <td>0</td>\n",
              "      <td>nonexistent</td>\n",
              "      <td>1.1</td>\n",
              "      <td>93.994</td>\n",
              "      <td>-36.4</td>\n",
              "      <td>4.857</td>\n",
              "      <td>5191.0</td>\n",
              "      <td>no</td>\n",
              "    </tr>\n",
              "    <tr>\n",
              "      <th>4</th>\n",
              "      <td>56</td>\n",
              "      <td>services</td>\n",
              "      <td>married</td>\n",
              "      <td>high.school</td>\n",
              "      <td>no</td>\n",
              "      <td>no</td>\n",
              "      <td>yes</td>\n",
              "      <td>telephone</td>\n",
              "      <td>may</td>\n",
              "      <td>mon</td>\n",
              "      <td>307</td>\n",
              "      <td>1</td>\n",
              "      <td>999</td>\n",
              "      <td>0</td>\n",
              "      <td>nonexistent</td>\n",
              "      <td>1.1</td>\n",
              "      <td>93.994</td>\n",
              "      <td>-36.4</td>\n",
              "      <td>4.857</td>\n",
              "      <td>5191.0</td>\n",
              "      <td>no</td>\n",
              "    </tr>\n",
              "  </tbody>\n",
              "</table>\n",
              "</div>"
            ],
            "text/plain": [
              "   age        job  marital  ... euribor3m nr.employed   y\n",
              "0   56  housemaid  married  ...     4.857      5191.0  no\n",
              "1   57   services  married  ...     4.857      5191.0  no\n",
              "2   37   services  married  ...     4.857      5191.0  no\n",
              "3   40     admin.  married  ...     4.857      5191.0  no\n",
              "4   56   services  married  ...     4.857      5191.0  no\n",
              "\n",
              "[5 rows x 21 columns]"
            ]
          },
          "metadata": {
            "tags": []
          },
          "execution_count": 4
        }
      ]
    },
    {
      "cell_type": "markdown",
      "metadata": {
        "id": "2x4uT9PJc3oZ",
        "colab_type": "text"
      },
      "source": [
        "###and the column names are"
      ]
    },
    {
      "cell_type": "code",
      "metadata": {
        "id": "wyXuVq0NhkcJ",
        "colab_type": "code",
        "outputId": "5bd80572-9595-41be-ed94-ae1b6379575c",
        "colab": {
          "base_uri": "https://localhost:8080/",
          "height": 90
        }
      },
      "source": [
        "dat.columns.values"
      ],
      "execution_count": 0,
      "outputs": [
        {
          "output_type": "execute_result",
          "data": {
            "text/plain": [
              "array(['age', 'job', 'marital', 'education', 'default', 'housing', 'loan',\n",
              "       'contact', 'month', 'day_of_week', 'duration', 'campaign', 'pdays',\n",
              "       'previous', 'poutcome', 'emp.var.rate', 'cons.price.idx',\n",
              "       'cons.conf.idx', 'euribor3m', 'nr.employed', 'y'], dtype=object)"
            ]
          },
          "metadata": {
            "tags": []
          },
          "execution_count": 5
        }
      ]
    },
    {
      "cell_type": "markdown",
      "metadata": {
        "id": "DQrGvTcvdBN8",
        "colab_type": "text"
      },
      "source": [
        "###The columns contain information on contacted customers by the marketing campaign as well as the outcome of the communication. The columns are:  \n",
        "- age: the age of the customer,\n",
        "- job: the occupation of the customer,\n",
        "- marital: the marital status of the customer,\n",
        "- education: the educational level of the customer,\n",
        "- default: a flag indicating whether the customer has credit in default,\n",
        "- housing: a flag indicating whether the customer has a housing loan or not,\n",
        "- loan: a flag indicating whether the customer has a personal loan or not,\n",
        "- contact: the way the customer has being contacted with two possible values \"cellular\" and \"telephone\" (land line phone),\n",
        "- month: month of last communication with the customer for this campaign,\n",
        "- day: day of last communication with the customer for this campaign,\n",
        "- duration: duration of of last communication with the customer for this campaign,\n",
        "- campaing: number of contacts for this campaign and for the specific customer,\n",
        "- previous: number of contacts with the customer before current campaign (-1 fo no contact)\n",
        "- poutcome: outcome of the previous marketing campaign (categorical: 'failure','nonexistent','success'),\n",
        "- emp.var.rate: employment variation rate - quarterly indicator (numeric)\n",
        "- cons.price.idx: consumer price index - monthly indicator (numeric)\n",
        "- cons.conf.idx: consumer confidence index - monthly indicator (numeric)\n",
        "- euribor3m: euribor 3 month rate - daily indicator (numeric)\n",
        "- nr.employed: number of employees - quarterly indicator (numeric)\n",
        "- y: the outcome of the campaign for this customer\n",
        "###To make things simpler we will drop emp.var.rate, cons.price.idx, cons.conf.idx, euribor3m, nr.employed. We will also drop duration of last call since it is not known before the comunication with the customer has ended and the outcome of the campaign is known."
      ]
    },
    {
      "cell_type": "code",
      "metadata": {
        "id": "lpmdiV8hhvHK",
        "colab_type": "code",
        "colab": {}
      },
      "source": [
        "dat = dat.drop([ 'duration','emp.var.rate', 'cons.price.idx',\n",
        "       'cons.conf.idx', 'euribor3m', 'nr.employed'], 1)"
      ],
      "execution_count": 0,
      "outputs": []
    },
    {
      "cell_type": "code",
      "metadata": {
        "id": "mq1FcAvri2at",
        "colab_type": "code",
        "outputId": "35cbb28b-e04d-4422-dce0-953f7e55e232",
        "colab": {
          "base_uri": "https://localhost:8080/",
          "height": 72
        }
      },
      "source": [
        "dat.columns.values"
      ],
      "execution_count": 0,
      "outputs": [
        {
          "output_type": "execute_result",
          "data": {
            "text/plain": [
              "array(['age', 'job', 'marital', 'education', 'default', 'housing', 'loan',\n",
              "       'contact', 'month', 'day_of_week', 'campaign', 'pdays', 'previous',\n",
              "       'poutcome', 'y'], dtype=object)"
            ]
          },
          "metadata": {
            "tags": []
          },
          "execution_count": 7
        }
      ]
    },
    {
      "cell_type": "markdown",
      "metadata": {
        "id": "isOh8oGPhIYa",
        "colab_type": "text"
      },
      "source": [
        "###We can see that in most cases the campaing was not successful. I.e. only 11,26% of the customers singed up for a term deposit account"
      ]
    },
    {
      "cell_type": "code",
      "metadata": {
        "id": "QPtxKA4HjHuL",
        "colab_type": "code",
        "outputId": "e1689278-6a3d-4fd5-84aa-c3ebdbb40301",
        "colab": {
          "base_uri": "https://localhost:8080/",
          "height": 72
        }
      },
      "source": [
        "dat['y'].value_counts()"
      ],
      "execution_count": 0,
      "outputs": [
        {
          "output_type": "execute_result",
          "data": {
            "text/plain": [
              "no     36548\n",
              "yes     4640\n",
              "Name: y, dtype: int64"
            ]
          },
          "metadata": {
            "tags": []
          },
          "execution_count": 8
        }
      ]
    },
    {
      "cell_type": "code",
      "metadata": {
        "id": "pI3MUUH0jVok",
        "colab_type": "code",
        "outputId": "5289cec3-de33-4489-cd4a-e65e5344c730",
        "colab": {
          "base_uri": "https://localhost:8080/",
          "height": 72
        }
      },
      "source": [
        "dat['y'].value_counts()/dat['y'].count()"
      ],
      "execution_count": 0,
      "outputs": [
        {
          "output_type": "execute_result",
          "data": {
            "text/plain": [
              "no     0.887346\n",
              "yes    0.112654\n",
              "Name: y, dtype: float64"
            ]
          },
          "metadata": {
            "tags": []
          },
          "execution_count": 9
        }
      ]
    },
    {
      "cell_type": "markdown",
      "metadata": {
        "id": "KnWlruqungE-",
        "colab_type": "text"
      },
      "source": [
        ""
      ]
    },
    {
      "cell_type": "code",
      "metadata": {
        "id": "ndi4pyRYlpRx",
        "colab_type": "code",
        "outputId": "89261777-af92-4ba1-9e97-fdb2c91768b0",
        "colab": {
          "base_uri": "https://localhost:8080/",
          "height": 301
        }
      },
      "source": [
        "sns.countplot(x='y',data=dat)"
      ],
      "execution_count": 0,
      "outputs": [
        {
          "output_type": "execute_result",
          "data": {
            "text/plain": [
              "<matplotlib.axes._subplots.AxesSubplot at 0x7f5163656a20>"
            ]
          },
          "metadata": {
            "tags": []
          },
          "execution_count": 10
        },
        {
          "output_type": "display_data",
          "data": {
            "image/png": "[encoded data removed]",
            "text/plain": [
              "<Figure size 432x288 with 1 Axes>"
            ]
          },
          "metadata": {
            "tags": []
          }
        }
      ]
    },
    {
      "cell_type": "markdown",
      "metadata": {
        "id": "TG0RsiFZhg0w",
        "colab_type": "text"
      },
      "source": [
        "###The following table presents the basic stats for the numeric variables"
      ]
    },
    {
      "cell_type": "code",
      "metadata": {
        "id": "rq9Egyjynjhv",
        "colab_type": "code",
        "outputId": "58c36ae3-03ed-42c4-f57a-0e921da6669c",
        "colab": {
          "base_uri": "https://localhost:8080/",
          "height": 300
        }
      },
      "source": [
        "dat.describe()"
      ],
      "execution_count": 0,
      "outputs": [
        {
          "output_type": "execute_result",
          "data": {
            "text/html": [
              "<div>\n",
              "<style scoped>\n",
              "    .dataframe tbody tr th:only-of-type {\n",
              "        vertical-align: middle;\n",
              "    }\n",
              "\n",
              "    .dataframe tbody tr th {\n",
              "        vertical-align: top;\n",
              "    }\n",
              "\n",
              "    .dataframe thead th {\n",
              "        text-align: right;\n",
              "    }\n",
              "</style>\n",
              "<table border=\"1\" class=\"dataframe\">\n",
              "  <thead>\n",
              "    <tr style=\"text-align: right;\">\n",
              "      <th></th>\n",
              "      <th>age</th>\n",
              "      <th>campaign</th>\n",
              "      <th>pdays</th>\n",
              "      <th>previous</th>\n",
              "    </tr>\n",
              "  </thead>\n",
              "  <tbody>\n",
              "    <tr>\n",
              "      <th>count</th>\n",
              "      <td>41188.00000</td>\n",
              "      <td>41188.000000</td>\n",
              "      <td>41188.000000</td>\n",
              "      <td>41188.000000</td>\n",
              "    </tr>\n",
              "    <tr>\n",
              "      <th>mean</th>\n",
              "      <td>40.02406</td>\n",
              "      <td>2.567593</td>\n",
              "      <td>962.475454</td>\n",
              "      <td>0.172963</td>\n",
              "    </tr>\n",
              "    <tr>\n",
              "      <th>std</th>\n",
              "      <td>10.42125</td>\n",
              "      <td>2.770014</td>\n",
              "      <td>186.910907</td>\n",
              "      <td>0.494901</td>\n",
              "    </tr>\n",
              "    <tr>\n",
              "      <th>min</th>\n",
              "      <td>17.00000</td>\n",
              "      <td>1.000000</td>\n",
              "      <td>0.000000</td>\n",
              "      <td>0.000000</td>\n",
              "    </tr>\n",
              "    <tr>\n",
              "      <th>25%</th>\n",
              "      <td>32.00000</td>\n",
              "      <td>1.000000</td>\n",
              "      <td>999.000000</td>\n",
              "      <td>0.000000</td>\n",
              "    </tr>\n",
              "    <tr>\n",
              "      <th>50%</th>\n",
              "      <td>38.00000</td>\n",
              "      <td>2.000000</td>\n",
              "      <td>999.000000</td>\n",
              "      <td>0.000000</td>\n",
              "    </tr>\n",
              "    <tr>\n",
              "      <th>75%</th>\n",
              "      <td>47.00000</td>\n",
              "      <td>3.000000</td>\n",
              "      <td>999.000000</td>\n",
              "      <td>0.000000</td>\n",
              "    </tr>\n",
              "    <tr>\n",
              "      <th>max</th>\n",
              "      <td>98.00000</td>\n",
              "      <td>56.000000</td>\n",
              "      <td>999.000000</td>\n",
              "      <td>7.000000</td>\n",
              "    </tr>\n",
              "  </tbody>\n",
              "</table>\n",
              "</div>"
            ],
            "text/plain": [
              "               age      campaign         pdays      previous\n",
              "count  41188.00000  41188.000000  41188.000000  41188.000000\n",
              "mean      40.02406      2.567593    962.475454      0.172963\n",
              "std       10.42125      2.770014    186.910907      0.494901\n",
              "min       17.00000      1.000000      0.000000      0.000000\n",
              "25%       32.00000      1.000000    999.000000      0.000000\n",
              "50%       38.00000      2.000000    999.000000      0.000000\n",
              "75%       47.00000      3.000000    999.000000      0.000000\n",
              "max       98.00000     56.000000    999.000000      7.000000"
            ]
          },
          "metadata": {
            "tags": []
          },
          "execution_count": 11
        }
      ]
    },
    {
      "cell_type": "code",
      "metadata": {
        "id": "c3Wc6LOn_eBS",
        "colab_type": "code",
        "outputId": "14dce6be-8e66-4fe4-90ce-89ac1725a10a",
        "colab": {
          "base_uri": "https://localhost:8080/",
          "height": 311
        }
      },
      "source": [
        "dat.dtypes"
      ],
      "execution_count": 0,
      "outputs": [
        {
          "output_type": "execute_result",
          "data": {
            "text/plain": [
              "age             int64\n",
              "job            object\n",
              "marital        object\n",
              "education      object\n",
              "default        object\n",
              "housing        object\n",
              "loan           object\n",
              "contact        object\n",
              "month          object\n",
              "day_of_week    object\n",
              "campaign        int64\n",
              "pdays           int64\n",
              "previous        int64\n",
              "poutcome       object\n",
              "y              object\n",
              "dtype: object"
            ]
          },
          "metadata": {
            "tags": []
          },
          "execution_count": 12
        }
      ]
    },
    {
      "cell_type": "markdown",
      "metadata": {
        "id": "c9nOKU0xhsdL",
        "colab_type": "text"
      },
      "source": [
        "###In order to create a classification model, we will convert categorical, discrete variables into numeric variables."
      ]
    },
    {
      "cell_type": "code",
      "metadata": {
        "id": "dBRgIuYFAHeF",
        "colab_type": "code",
        "outputId": "29f365c0-753d-4751-f4c1-5ff53a1cbd08",
        "colab": {
          "base_uri": "https://localhost:8080/",
          "height": 311
        }
      },
      "source": [
        "cat_columns = dat.select_dtypes(['object']).columns\n",
        "dat[cat_columns] = dat[cat_columns].apply(lambda x: x.astype('category'))\n",
        "dat[cat_columns] = dat[cat_columns].apply(lambda x: x.cat.codes)\n",
        "dat.dtypes"
      ],
      "execution_count": 0,
      "outputs": [
        {
          "output_type": "execute_result",
          "data": {
            "text/plain": [
              "age            int64\n",
              "job             int8\n",
              "marital         int8\n",
              "education       int8\n",
              "default         int8\n",
              "housing         int8\n",
              "loan            int8\n",
              "contact         int8\n",
              "month           int8\n",
              "day_of_week     int8\n",
              "campaign       int64\n",
              "pdays          int64\n",
              "previous       int64\n",
              "poutcome        int8\n",
              "y               int8\n",
              "dtype: object"
            ]
          },
          "metadata": {
            "tags": []
          },
          "execution_count": 13
        }
      ]
    },
    {
      "cell_type": "markdown",
      "metadata": {
        "id": "4YEqlLXBh-w0",
        "colab_type": "text"
      },
      "source": [
        "###Then we will split the dataset in two subsets/parts:\n",
        "- a train subset that will be used for creating a classification model,\n",
        "- a test subset for evaluating the model we created"
      ]
    },
    {
      "cell_type": "code",
      "metadata": {
        "id": "LKxzlr9dlBFl",
        "colab_type": "code",
        "colab": {}
      },
      "source": [
        "X_train, X_test, y_train, y_test = train_test_split(dat.drop('y',1) , dat['y'], test_size=0.3, random_state=0)"
      ],
      "execution_count": 0,
      "outputs": []
    },
    {
      "cell_type": "markdown",
      "metadata": {
        "id": "RV1PMzvOijRW",
        "colab_type": "text"
      },
      "source": [
        "## Model creation \n",
        "###The model we will create, will be a logistic regression model.\n",
        "###The following code creates the model and displays it's accuracy."
      ]
    },
    {
      "cell_type": "code",
      "metadata": {
        "id": "bmXkZlnGBB9z",
        "colab_type": "code",
        "outputId": "48303a1d-1b8b-4086-a4ef-0d892b858407",
        "colab": {
          "base_uri": "https://localhost:8080/",
          "height": 92
        }
      },
      "source": [
        "logreg = LogisticRegression()\n",
        "logreg.fit(X_train, y_train)\n",
        "y_pred = logreg.predict(X_test)\n",
        "print('Accuracy of logistic regression classifier on test set: {:.2f}'.format(logreg.score(X_test, y_test)))"
      ],
      "execution_count": 0,
      "outputs": [
        {
          "output_type": "stream",
          "text": [
            "/usr/local/lib/python3.6/dist-packages/sklearn/linear_model/logistic.py:432: FutureWarning: Default solver will be changed to 'lbfgs' in 0.22. Specify a solver to silence this warning.\n",
            "  FutureWarning)\n"
          ],
          "name": "stderr"
        },
        {
          "output_type": "stream",
          "text": [
            "Accuracy of logistic regression classifier on test set: 0.90\n"
          ],
          "name": "stdout"
        }
      ]
    },
    {
      "cell_type": "markdown",
      "metadata": {
        "id": "xxzRJyL5jhs_",
        "colab_type": "text"
      },
      "source": [
        "###We can create a confussion matrix displaying the real and predicted outcome for the test test.\n",
        "We see that:\n",
        "- 10.808 customers were classified correctly as not having signed up for a term deposit account,\n",
        "- 161 customers were classified wrongly as having signed up for a term deposit account,\n",
        "- 1.128 customers were classified wrongly as not having signed up for a term deposit account,\n",
        "- 260 customers were classified correctly as having signed up for a term deposit account."
      ]
    },
    {
      "cell_type": "code",
      "metadata": {
        "id": "fIwPrYPMBlAr",
        "colab_type": "code",
        "outputId": "b5d21f6f-0b91-40b0-b835-e465c589d9d9",
        "colab": {
          "base_uri": "https://localhost:8080/",
          "height": 54
        }
      },
      "source": [
        "conf_matrix = confusion_matrix(y_test, y_pred)\n",
        "print(conf_matrix)"
      ],
      "execution_count": 0,
      "outputs": [
        {
          "output_type": "stream",
          "text": [
            "[[10808   161]\n",
            " [ 1128   260]]\n"
          ],
          "name": "stdout"
        }
      ]
    },
    {
      "cell_type": "markdown",
      "metadata": {
        "id": "HKlfbu8skZav",
        "colab_type": "text"
      },
      "source": [
        "By dividing with the total number of customers in the test set, we get the following percentages\n",
        "Another way to see it is that:\n",
        "- 87,46% of the customers were classified correctly as not having signed up for a term deposit account,\n",
        "- 1,3% of the customers were classified wrongly as having signed up for a term deposit account,\n",
        "- 9,12% of the customers were classified wrongly as not having signed up for a term deposit account,\n",
        "- 2,1% of the customers were classified correctly as having signed up for a term deposit account."
      ]
    },
    {
      "cell_type": "code",
      "metadata": {
        "id": "PrBjM-4NBob6",
        "colab_type": "code",
        "outputId": "f7f570f1-2ee4-4850-a816-b6f0b1093b26",
        "colab": {
          "base_uri": "https://localhost:8080/",
          "height": 54
        }
      },
      "source": [
        "conf_matrix = confusion_matrix(y_test, y_pred)\n",
        "conf_matrix=conf_matrix/y_test.size\n",
        "print(conf_matrix)"
      ],
      "execution_count": 0,
      "outputs": [
        {
          "output_type": "stream",
          "text": [
            "[[0.87464595 0.01302905]\n",
            " [0.09128429 0.02104071]]\n"
          ],
          "name": "stdout"
        }
      ]
    },
    {
      "cell_type": "markdown",
      "metadata": {
        "id": "KYOtxEgumXZN",
        "colab_type": "text"
      },
      "source": [
        "Hence, model's accuracy is:"
      ]
    },
    {
      "cell_type": "code",
      "metadata": {
        "colab_type": "code",
        "outputId": "80a1f8fe-a2cf-4bc1-f7b4-f57540c61e34",
        "id": "CKyN0au8lWca",
        "colab": {
          "base_uri": "https://localhost:8080/",
          "height": 35
        }
      },
      "source": [
        "(conf_matrix[0,0]+conf_matrix[1,1])"
      ],
      "execution_count": 0,
      "outputs": [
        {
          "output_type": "execute_result",
          "data": {
            "text/plain": [
              "0.8956866553370559"
            ]
          },
          "metadata": {
            "tags": []
          },
          "execution_count": 18
        }
      ]
    },
    {
      "cell_type": "markdown",
      "metadata": {
        "id": "uqw6wk8QldfH",
        "colab_type": "text"
      },
      "source": [
        "Another way to see it is by examining the prediction accuracy for each outcome. Seen in this way we see that:\n",
        "- 98,53% of the customers that did not set up a term deposit account were classified correctly while on the other hand,\n",
        "- 18,73% of the customers that did set up a term deposit account were classified correctly"
      ]
    },
    {
      "cell_type": "code",
      "metadata": {
        "id": "OZd1cWNWCmjv",
        "colab_type": "code",
        "outputId": "da7f3902-ca79-48f1-f7c0-e51c8e7be7e8",
        "colab": {
          "base_uri": "https://localhost:8080/",
          "height": 54
        }
      },
      "source": [
        "conf_matrix = confusion_matrix(y_test, y_pred)\n",
        "categories_size=np.array([10969,1388])\n",
        "conf_matrix=conf_matrix/categories_size[:,None]\n",
        "print(conf_matrix)"
      ],
      "execution_count": 0,
      "outputs": [
        {
          "output_type": "stream",
          "text": [
            "[[0.98532227 0.01467773]\n",
            " [0.81268012 0.18731988]]\n"
          ],
          "name": "stdout"
        }
      ]
    },
    {
      "cell_type": "code",
      "metadata": {
        "id": "dv0_w1Uzr4ZQ",
        "colab_type": "code",
        "outputId": "b595c620-b8c8-4321-ad35-df58f02985ff",
        "colab": {
          "base_uri": "https://localhost:8080/",
          "height": 295
        }
      },
      "source": [
        "logit_roc_auc = roc_auc_score(y_test, y_pred)\n",
        "y_pred_prob=logreg.predict_proba(X_test)\n",
        "fpr, tpr, thresholds = roc_curve(y_test, y_pred_prob[:,1])\n",
        "plt.figure()\n",
        "plt.plot(fpr, tpr, label='Logistic Regression (area = %0.2f)' % logit_roc_auc)\n",
        "plt.plot([0, 1], [0, 1],'r--')\n",
        "plt.xlim([0.0, 1.0])\n",
        "plt.ylim([0.0, 1.05])\n",
        "plt.xlabel('False Positive Rate')\n",
        "plt.ylabel('True Positive Rate')\n",
        "plt.title('Unbalanced dataset - Receiver operating characteristic')\n",
        "plt.legend(loc=\"lower right\")\n",
        "plt.savefig('Log_ROC')\n",
        "plt.show()"
      ],
      "execution_count": 0,
      "outputs": [
        {
          "output_type": "display_data",
          "data": {
            "image/png": "[encoded data removed]",
            "text/plain": [
              "<Figure size 432x288 with 1 Axes>"
            ]
          },
          "metadata": {
            "tags": []
          }
        }
      ]
    },
    {
      "cell_type": "markdown",
      "metadata": {
        "id": "4PcpOvjhnMNE",
        "colab_type": "text"
      },
      "source": [
        "###From what we have seen above the performance of the model is worse for the cases that the actual result is the customer setting up a term deposit account.\n",
        "###This is because the highly unbalnce in the distribution of the two possible outcomes."
      ]
    },
    {
      "cell_type": "code",
      "metadata": {
        "id": "nhvWCmlUGDwJ",
        "colab_type": "code",
        "outputId": "dde29190-1420-4866-92d5-ad8e372d5e62",
        "colab": {
          "base_uri": "https://localhost:8080/",
          "height": 74
        }
      },
      "source": [
        "from imblearn.over_sampling import SMOTE\n",
        "os = SMOTE(random_state=0)\n",
        "os_X_train,os_y_train=os.fit_sample(X_train, y_train)\n",
        "os_X_train = pd.DataFrame(data=os_X_train,columns=X_train.columns )\n",
        "os_y_train= pd.DataFrame(data=os_y_train,columns=['y'])"
      ],
      "execution_count": 0,
      "outputs": [
        {
          "output_type": "stream",
          "text": [
            "/usr/local/lib/python3.6/dist-packages/sklearn/externals/six.py:31: DeprecationWarning: The module is deprecated in version 0.21 and will be removed in version 0.23 since we've dropped support for Python 2.7. Please rely on the official version of six (https://pypi.org/project/six/).\n",
            "  \"(https://pypi.org/project/six/).\", DeprecationWarning)\n"
          ],
          "name": "stderr"
        }
      ]
    },
    {
      "cell_type": "code",
      "metadata": {
        "id": "eYWlcjoFJNSY",
        "colab_type": "code",
        "outputId": "06e13db8-6843-4ac7-f64f-1fc06a29aed6",
        "colab": {
          "base_uri": "https://localhost:8080/",
          "height": 129
        }
      },
      "source": [
        "logreg = LogisticRegression()\n",
        "logreg.fit(os_X_train, os_y_train)\n",
        "y_pred = logreg.predict(X_test)\n",
        "print('Accuracy of logistic regression classifier on test set: {:.2f}'.format(logreg.score(X_test, y_test)))"
      ],
      "execution_count": 0,
      "outputs": [
        {
          "output_type": "stream",
          "text": [
            "/usr/local/lib/python3.6/dist-packages/sklearn/linear_model/logistic.py:432: FutureWarning: Default solver will be changed to 'lbfgs' in 0.22. Specify a solver to silence this warning.\n",
            "  FutureWarning)\n",
            "/usr/local/lib/python3.6/dist-packages/sklearn/utils/validation.py:724: DataConversionWarning: A column-vector y was passed when a 1d array was expected. Please change the shape of y to (n_samples, ), for example using ravel().\n",
            "  y = column_or_1d(y, warn=True)\n"
          ],
          "name": "stderr"
        },
        {
          "output_type": "stream",
          "text": [
            "Accuracy of logistic regression classifier on test set: 0.66\n"
          ],
          "name": "stdout"
        }
      ]
    },
    {
      "cell_type": "code",
      "metadata": {
        "id": "0ZntQdcEJxAl",
        "colab_type": "code",
        "outputId": "0e8335ff-4376-4ae6-c54b-45d1e5337a16",
        "colab": {
          "base_uri": "https://localhost:8080/",
          "height": 54
        }
      },
      "source": [
        "conf_matrix = confusion_matrix(y_test, y_pred)\n",
        "categories_size=np.array([10969,1388])\n",
        "conf_matrix=conf_matrix/categories_size[:,None]\n",
        "print(conf_matrix)"
      ],
      "execution_count": 0,
      "outputs": [
        {
          "output_type": "stream",
          "text": [
            "[[0.67599599 0.32400401]\n",
            " [0.44164265 0.55835735]]\n"
          ],
          "name": "stdout"
        }
      ]
    },
    {
      "cell_type": "code",
      "metadata": {
        "id": "BiwW90JGqUqw",
        "colab_type": "code",
        "outputId": "23172428-cbaf-4e4d-9e97-f4faf7780079",
        "colab": {
          "base_uri": "https://localhost:8080/",
          "height": 295
        }
      },
      "source": [
        "logit_roc_auc = roc_auc_score(y_test, y_pred)\n",
        "y_pred_prob=logreg.predict_proba(X_test)\n",
        "fpr, tpr, thresholds = roc_curve(y_test, y_pred_prob[:,1])\n",
        "plt.figure()\n",
        "plt.plot(fpr, tpr, label='Logistic Regression (area = %0.2f)' % logit_roc_auc)\n",
        "plt.plot([0, 1], [0, 1],'r--')\n",
        "plt.xlim([0.0, 1.0])\n",
        "plt.ylim([0.0, 1.05])\n",
        "plt.xlabel('False Positive Rate')\n",
        "plt.ylabel('True Positive Rate')\n",
        "plt.title('Re-balanced dataset - Receiver operating characteristic')\n",
        "plt.legend(loc=\"lower right\")\n",
        "plt.savefig('Log_ROC')\n",
        "plt.show()"
      ],
      "execution_count": 0,
      "outputs": [
        {
          "output_type": "display_data",
          "data": {
            "image/png": "[encoded data removed]",
            "text/plain": [
              "<Figure size 432x288 with 1 Axes>"
            ]
          },
          "metadata": {
            "tags": []
          }
        }
      ]
    }
  ]
}