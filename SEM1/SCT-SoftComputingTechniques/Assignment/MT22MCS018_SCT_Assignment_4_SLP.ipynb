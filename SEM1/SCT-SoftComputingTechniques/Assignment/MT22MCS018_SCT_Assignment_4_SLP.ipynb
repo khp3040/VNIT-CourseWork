{
 "cells": [
  {
   "cell_type": "markdown",
   "metadata": {
    "id": "oganwBcZ4rDH"
   },
   "source": [
    "###**Single Layer Perceptron**###"
   ]
  },
  {
   "cell_type": "code",
   "execution_count": 1,
   "metadata": {
    "colab": {
     "base_uri": "https://localhost:8080/"
    },
    "id": "9aZrhXk4js1i",
    "outputId": "f27913f1-17bf-466f-ae1e-35262cd12ba0"
   },
   "outputs": [
    {
     "name": "stdout",
     "output_type": "stream",
     "text": [
      "<class 'pandas.core.frame.DataFrame'>\n",
      "RangeIndex: 25000 entries, 0 to 24999\n",
      "Data columns (total 11 columns):\n",
      " #   Column                        Non-Null Count  Dtype \n",
      "---  ------                        --------------  ----- \n",
      " 0   Patient_ID                    25000 non-null  object\n",
      " 1   SystemicIllness               25000 non-null  object\n",
      " 2   RectalPain                    25000 non-null  bool  \n",
      " 3   SoreThroat                    25000 non-null  bool  \n",
      " 4   PenileOedema                  25000 non-null  bool  \n",
      " 5   OralLesions                   25000 non-null  bool  \n",
      " 6   SolitaryLesion                25000 non-null  bool  \n",
      " 7   SwollenTonsils                25000 non-null  bool  \n",
      " 8   HIV_Infection                 25000 non-null  bool  \n",
      " 9   SexuallyTransmittedInfection  25000 non-null  bool  \n",
      " 10  MonkeyPox                     25000 non-null  object\n",
      "dtypes: bool(8), object(3)\n",
      "memory usage: 781.4+ KB\n",
      "None\n"
     ]
    },
    {
     "data": {
      "text/html": [
       "<div>\n",
       "<style scoped>\n",
       "    .dataframe tbody tr th:only-of-type {\n",
       "        vertical-align: middle;\n",
       "    }\n",
       "\n",
       "    .dataframe tbody tr th {\n",
       "        vertical-align: top;\n",
       "    }\n",
       "\n",
       "    .dataframe thead th {\n",
       "        text-align: right;\n",
       "    }\n",
       "</style>\n",
       "<table border=\"1\" class=\"dataframe\">\n",
       "  <thead>\n",
       "    <tr style=\"text-align: right;\">\n",
       "      <th></th>\n",
       "      <th>Patient_ID</th>\n",
       "      <th>SystemicIllness</th>\n",
       "      <th>RectalPain</th>\n",
       "      <th>SoreThroat</th>\n",
       "      <th>PenileOedema</th>\n",
       "      <th>OralLesions</th>\n",
       "      <th>SolitaryLesion</th>\n",
       "      <th>SwollenTonsils</th>\n",
       "      <th>HIV_Infection</th>\n",
       "      <th>SexuallyTransmittedInfection</th>\n",
       "      <th>MonkeyPox</th>\n",
       "    </tr>\n",
       "  </thead>\n",
       "  <tbody>\n",
       "    <tr>\n",
       "      <th>0</th>\n",
       "      <td>P0</td>\n",
       "      <td>None</td>\n",
       "      <td>False</td>\n",
       "      <td>True</td>\n",
       "      <td>True</td>\n",
       "      <td>True</td>\n",
       "      <td>False</td>\n",
       "      <td>True</td>\n",
       "      <td>False</td>\n",
       "      <td>False</td>\n",
       "      <td>Negative</td>\n",
       "    </tr>\n",
       "    <tr>\n",
       "      <th>1</th>\n",
       "      <td>P1</td>\n",
       "      <td>Fever</td>\n",
       "      <td>True</td>\n",
       "      <td>False</td>\n",
       "      <td>True</td>\n",
       "      <td>True</td>\n",
       "      <td>False</td>\n",
       "      <td>False</td>\n",
       "      <td>True</td>\n",
       "      <td>False</td>\n",
       "      <td>Positive</td>\n",
       "    </tr>\n",
       "    <tr>\n",
       "      <th>2</th>\n",
       "      <td>P2</td>\n",
       "      <td>Fever</td>\n",
       "      <td>False</td>\n",
       "      <td>True</td>\n",
       "      <td>True</td>\n",
       "      <td>False</td>\n",
       "      <td>False</td>\n",
       "      <td>False</td>\n",
       "      <td>True</td>\n",
       "      <td>False</td>\n",
       "      <td>Positive</td>\n",
       "    </tr>\n",
       "    <tr>\n",
       "      <th>3</th>\n",
       "      <td>P3</td>\n",
       "      <td>None</td>\n",
       "      <td>True</td>\n",
       "      <td>False</td>\n",
       "      <td>False</td>\n",
       "      <td>False</td>\n",
       "      <td>True</td>\n",
       "      <td>True</td>\n",
       "      <td>True</td>\n",
       "      <td>False</td>\n",
       "      <td>Positive</td>\n",
       "    </tr>\n",
       "    <tr>\n",
       "      <th>4</th>\n",
       "      <td>P4</td>\n",
       "      <td>Swollen Lymph Nodes</td>\n",
       "      <td>True</td>\n",
       "      <td>True</td>\n",
       "      <td>True</td>\n",
       "      <td>False</td>\n",
       "      <td>False</td>\n",
       "      <td>True</td>\n",
       "      <td>True</td>\n",
       "      <td>False</td>\n",
       "      <td>Positive</td>\n",
       "    </tr>\n",
       "    <tr>\n",
       "      <th>...</th>\n",
       "      <td>...</td>\n",
       "      <td>...</td>\n",
       "      <td>...</td>\n",
       "      <td>...</td>\n",
       "      <td>...</td>\n",
       "      <td>...</td>\n",
       "      <td>...</td>\n",
       "      <td>...</td>\n",
       "      <td>...</td>\n",
       "      <td>...</td>\n",
       "      <td>...</td>\n",
       "    </tr>\n",
       "    <tr>\n",
       "      <th>24995</th>\n",
       "      <td>P24995</td>\n",
       "      <td>None</td>\n",
       "      <td>True</td>\n",
       "      <td>True</td>\n",
       "      <td>False</td>\n",
       "      <td>True</td>\n",
       "      <td>True</td>\n",
       "      <td>False</td>\n",
       "      <td>False</td>\n",
       "      <td>True</td>\n",
       "      <td>Positive</td>\n",
       "    </tr>\n",
       "    <tr>\n",
       "      <th>24996</th>\n",
       "      <td>P24996</td>\n",
       "      <td>Fever</td>\n",
       "      <td>False</td>\n",
       "      <td>True</td>\n",
       "      <td>True</td>\n",
       "      <td>False</td>\n",
       "      <td>True</td>\n",
       "      <td>True</td>\n",
       "      <td>True</td>\n",
       "      <td>True</td>\n",
       "      <td>Positive</td>\n",
       "    </tr>\n",
       "    <tr>\n",
       "      <th>24997</th>\n",
       "      <td>P24997</td>\n",
       "      <td>None</td>\n",
       "      <td>True</td>\n",
       "      <td>True</td>\n",
       "      <td>False</td>\n",
       "      <td>False</td>\n",
       "      <td>True</td>\n",
       "      <td>True</td>\n",
       "      <td>False</td>\n",
       "      <td>False</td>\n",
       "      <td>Positive</td>\n",
       "    </tr>\n",
       "    <tr>\n",
       "      <th>24998</th>\n",
       "      <td>P24998</td>\n",
       "      <td>Swollen Lymph Nodes</td>\n",
       "      <td>False</td>\n",
       "      <td>True</td>\n",
       "      <td>False</td>\n",
       "      <td>True</td>\n",
       "      <td>True</td>\n",
       "      <td>True</td>\n",
       "      <td>False</td>\n",
       "      <td>False</td>\n",
       "      <td>Negative</td>\n",
       "    </tr>\n",
       "    <tr>\n",
       "      <th>24999</th>\n",
       "      <td>P24999</td>\n",
       "      <td>Swollen Lymph Nodes</td>\n",
       "      <td>False</td>\n",
       "      <td>False</td>\n",
       "      <td>True</td>\n",
       "      <td>False</td>\n",
       "      <td>False</td>\n",
       "      <td>True</td>\n",
       "      <td>True</td>\n",
       "      <td>False</td>\n",
       "      <td>Positive</td>\n",
       "    </tr>\n",
       "  </tbody>\n",
       "</table>\n",
       "<p>25000 rows × 11 columns</p>\n",
       "</div>"
      ],
      "text/plain": [
       "      Patient_ID      SystemicIllness  RectalPain  SoreThroat  PenileOedema  \\\n",
       "0             P0                 None       False        True          True   \n",
       "1             P1                Fever        True       False          True   \n",
       "2             P2                Fever       False        True          True   \n",
       "3             P3                 None        True       False         False   \n",
       "4             P4  Swollen Lymph Nodes        True        True          True   \n",
       "...          ...                  ...         ...         ...           ...   \n",
       "24995     P24995                 None        True        True         False   \n",
       "24996     P24996                Fever       False        True          True   \n",
       "24997     P24997                 None        True        True         False   \n",
       "24998     P24998  Swollen Lymph Nodes       False        True         False   \n",
       "24999     P24999  Swollen Lymph Nodes       False       False          True   \n",
       "\n",
       "       OralLesions  SolitaryLesion  SwollenTonsils  HIV_Infection  \\\n",
       "0             True           False            True          False   \n",
       "1             True           False           False           True   \n",
       "2            False           False           False           True   \n",
       "3            False            True            True           True   \n",
       "4            False           False            True           True   \n",
       "...            ...             ...             ...            ...   \n",
       "24995         True            True           False          False   \n",
       "24996        False            True            True           True   \n",
       "24997        False            True            True          False   \n",
       "24998         True            True            True          False   \n",
       "24999        False           False            True           True   \n",
       "\n",
       "       SexuallyTransmittedInfection MonkeyPox  \n",
       "0                             False  Negative  \n",
       "1                             False  Positive  \n",
       "2                             False  Positive  \n",
       "3                             False  Positive  \n",
       "4                             False  Positive  \n",
       "...                             ...       ...  \n",
       "24995                          True  Positive  \n",
       "24996                          True  Positive  \n",
       "24997                         False  Positive  \n",
       "24998                         False  Negative  \n",
       "24999                         False  Positive  \n",
       "\n",
       "[25000 rows x 11 columns]"
      ]
     },
     "execution_count": 1,
     "metadata": {},
     "output_type": "execute_result"
    }
   ],
   "source": [
    "import numpy as np\n",
    "import pandas as pd\n",
    "from matplotlib import pyplot as plt\n",
    "from sklearn.preprocessing import LabelEncoder\n",
    "from sklearn.model_selection import train_test_split\n",
    "import copy\n",
    "\n",
    "# Use Dataset\n",
    "\n",
    "df = pd.read_csv('monkey-pox.csv')\n",
    "print(df.info())\n",
    "        \n",
    "df"
   ]
  },
  {
   "cell_type": "markdown",
   "metadata": {
    "id": "uEGM4NgB63-4"
   },
   "source": [
    "###**Pre-Processing Data**###"
   ]
  },
  {
   "cell_type": "code",
   "execution_count": 2,
   "metadata": {
    "colab": {
     "base_uri": "https://localhost:8080/",
     "height": 206
    },
    "id": "BGVq2qDFju9S",
    "outputId": "1263c6db-4a42-495e-e211-414533d6e9db"
   },
   "outputs": [
    {
     "name": "stdout",
     "output_type": "stream",
     "text": [
      "<class 'pandas.core.frame.DataFrame'>\n",
      "RangeIndex: 25000 entries, 0 to 24999\n",
      "Data columns (total 9 columns):\n",
      " #   Column                        Non-Null Count  Dtype \n",
      "---  ------                        --------------  ----- \n",
      " 0   RectalPain                    25000 non-null  object\n",
      " 1   SoreThroat                    25000 non-null  object\n",
      " 2   PenileOedema                  25000 non-null  object\n",
      " 3   OralLesions                   25000 non-null  object\n",
      " 4   SolitaryLesion                25000 non-null  object\n",
      " 5   SwollenTonsils                25000 non-null  object\n",
      " 6   HIV_Infection                 25000 non-null  object\n",
      " 7   SexuallyTransmittedInfection  25000 non-null  object\n",
      " 8   MonkeyPox                     25000 non-null  object\n",
      "dtypes: object(9)\n",
      "memory usage: 1.7+ MB\n",
      "None\n",
      "<class 'pandas.core.frame.DataFrame'>\n",
      "RangeIndex: 25000 entries, 0 to 24999\n",
      "Data columns (total 9 columns):\n",
      " #   Column                        Non-Null Count  Dtype  \n",
      "---  ------                        --------------  -----  \n",
      " 0   RectalPain                    25000 non-null  float64\n",
      " 1   SoreThroat                    25000 non-null  float64\n",
      " 2   PenileOedema                  25000 non-null  float64\n",
      " 3   OralLesions                   25000 non-null  float64\n",
      " 4   SolitaryLesion                25000 non-null  float64\n",
      " 5   SwollenTonsils                25000 non-null  float64\n",
      " 6   HIV_Infection                 25000 non-null  float64\n",
      " 7   SexuallyTransmittedInfection  25000 non-null  float64\n",
      " 8   MonkeyPox                     25000 non-null  float64\n",
      "dtypes: float64(9)\n",
      "memory usage: 1.7 MB\n",
      "None\n"
     ]
    },
    {
     "data": {
      "text/html": [
       "<div>\n",
       "<style scoped>\n",
       "    .dataframe tbody tr th:only-of-type {\n",
       "        vertical-align: middle;\n",
       "    }\n",
       "\n",
       "    .dataframe tbody tr th {\n",
       "        vertical-align: top;\n",
       "    }\n",
       "\n",
       "    .dataframe thead th {\n",
       "        text-align: right;\n",
       "    }\n",
       "</style>\n",
       "<table border=\"1\" class=\"dataframe\">\n",
       "  <thead>\n",
       "    <tr style=\"text-align: right;\">\n",
       "      <th></th>\n",
       "      <th>RectalPain</th>\n",
       "      <th>SoreThroat</th>\n",
       "      <th>PenileOedema</th>\n",
       "      <th>OralLesions</th>\n",
       "      <th>SolitaryLesion</th>\n",
       "      <th>SwollenTonsils</th>\n",
       "      <th>HIV_Infection</th>\n",
       "      <th>SexuallyTransmittedInfection</th>\n",
       "      <th>MonkeyPox</th>\n",
       "    </tr>\n",
       "  </thead>\n",
       "  <tbody>\n",
       "    <tr>\n",
       "      <th>0</th>\n",
       "      <td>-1.0</td>\n",
       "      <td>1.0</td>\n",
       "      <td>1.0</td>\n",
       "      <td>1.0</td>\n",
       "      <td>-1.0</td>\n",
       "      <td>1.0</td>\n",
       "      <td>-1.0</td>\n",
       "      <td>-1.0</td>\n",
       "      <td>-1.0</td>\n",
       "    </tr>\n",
       "    <tr>\n",
       "      <th>1</th>\n",
       "      <td>1.0</td>\n",
       "      <td>-1.0</td>\n",
       "      <td>1.0</td>\n",
       "      <td>1.0</td>\n",
       "      <td>-1.0</td>\n",
       "      <td>-1.0</td>\n",
       "      <td>1.0</td>\n",
       "      <td>-1.0</td>\n",
       "      <td>1.0</td>\n",
       "    </tr>\n",
       "    <tr>\n",
       "      <th>2</th>\n",
       "      <td>-1.0</td>\n",
       "      <td>1.0</td>\n",
       "      <td>1.0</td>\n",
       "      <td>-1.0</td>\n",
       "      <td>-1.0</td>\n",
       "      <td>-1.0</td>\n",
       "      <td>1.0</td>\n",
       "      <td>-1.0</td>\n",
       "      <td>1.0</td>\n",
       "    </tr>\n",
       "    <tr>\n",
       "      <th>3</th>\n",
       "      <td>1.0</td>\n",
       "      <td>-1.0</td>\n",
       "      <td>-1.0</td>\n",
       "      <td>-1.0</td>\n",
       "      <td>1.0</td>\n",
       "      <td>1.0</td>\n",
       "      <td>1.0</td>\n",
       "      <td>-1.0</td>\n",
       "      <td>1.0</td>\n",
       "    </tr>\n",
       "    <tr>\n",
       "      <th>4</th>\n",
       "      <td>1.0</td>\n",
       "      <td>1.0</td>\n",
       "      <td>1.0</td>\n",
       "      <td>-1.0</td>\n",
       "      <td>-1.0</td>\n",
       "      <td>1.0</td>\n",
       "      <td>1.0</td>\n",
       "      <td>-1.0</td>\n",
       "      <td>1.0</td>\n",
       "    </tr>\n",
       "    <tr>\n",
       "      <th>...</th>\n",
       "      <td>...</td>\n",
       "      <td>...</td>\n",
       "      <td>...</td>\n",
       "      <td>...</td>\n",
       "      <td>...</td>\n",
       "      <td>...</td>\n",
       "      <td>...</td>\n",
       "      <td>...</td>\n",
       "      <td>...</td>\n",
       "    </tr>\n",
       "    <tr>\n",
       "      <th>24995</th>\n",
       "      <td>1.0</td>\n",
       "      <td>1.0</td>\n",
       "      <td>-1.0</td>\n",
       "      <td>1.0</td>\n",
       "      <td>1.0</td>\n",
       "      <td>-1.0</td>\n",
       "      <td>-1.0</td>\n",
       "      <td>1.0</td>\n",
       "      <td>1.0</td>\n",
       "    </tr>\n",
       "    <tr>\n",
       "      <th>24996</th>\n",
       "      <td>-1.0</td>\n",
       "      <td>1.0</td>\n",
       "      <td>1.0</td>\n",
       "      <td>-1.0</td>\n",
       "      <td>1.0</td>\n",
       "      <td>1.0</td>\n",
       "      <td>1.0</td>\n",
       "      <td>1.0</td>\n",
       "      <td>1.0</td>\n",
       "    </tr>\n",
       "    <tr>\n",
       "      <th>24997</th>\n",
       "      <td>1.0</td>\n",
       "      <td>1.0</td>\n",
       "      <td>-1.0</td>\n",
       "      <td>-1.0</td>\n",
       "      <td>1.0</td>\n",
       "      <td>1.0</td>\n",
       "      <td>-1.0</td>\n",
       "      <td>-1.0</td>\n",
       "      <td>1.0</td>\n",
       "    </tr>\n",
       "    <tr>\n",
       "      <th>24998</th>\n",
       "      <td>-1.0</td>\n",
       "      <td>1.0</td>\n",
       "      <td>-1.0</td>\n",
       "      <td>1.0</td>\n",
       "      <td>1.0</td>\n",
       "      <td>1.0</td>\n",
       "      <td>-1.0</td>\n",
       "      <td>-1.0</td>\n",
       "      <td>-1.0</td>\n",
       "    </tr>\n",
       "    <tr>\n",
       "      <th>24999</th>\n",
       "      <td>-1.0</td>\n",
       "      <td>-1.0</td>\n",
       "      <td>1.0</td>\n",
       "      <td>-1.0</td>\n",
       "      <td>-1.0</td>\n",
       "      <td>1.0</td>\n",
       "      <td>1.0</td>\n",
       "      <td>-1.0</td>\n",
       "      <td>1.0</td>\n",
       "    </tr>\n",
       "  </tbody>\n",
       "</table>\n",
       "<p>25000 rows × 9 columns</p>\n",
       "</div>"
      ],
      "text/plain": [
       "       RectalPain  SoreThroat  PenileOedema  OralLesions  SolitaryLesion  \\\n",
       "0            -1.0         1.0           1.0          1.0            -1.0   \n",
       "1             1.0        -1.0           1.0          1.0            -1.0   \n",
       "2            -1.0         1.0           1.0         -1.0            -1.0   \n",
       "3             1.0        -1.0          -1.0         -1.0             1.0   \n",
       "4             1.0         1.0           1.0         -1.0            -1.0   \n",
       "...           ...         ...           ...          ...             ...   \n",
       "24995         1.0         1.0          -1.0          1.0             1.0   \n",
       "24996        -1.0         1.0           1.0         -1.0             1.0   \n",
       "24997         1.0         1.0          -1.0         -1.0             1.0   \n",
       "24998        -1.0         1.0          -1.0          1.0             1.0   \n",
       "24999        -1.0        -1.0           1.0         -1.0            -1.0   \n",
       "\n",
       "       SwollenTonsils  HIV_Infection  SexuallyTransmittedInfection  MonkeyPox  \n",
       "0                 1.0           -1.0                          -1.0       -1.0  \n",
       "1                -1.0            1.0                          -1.0        1.0  \n",
       "2                -1.0            1.0                          -1.0        1.0  \n",
       "3                 1.0            1.0                          -1.0        1.0  \n",
       "4                 1.0            1.0                          -1.0        1.0  \n",
       "...               ...            ...                           ...        ...  \n",
       "24995            -1.0           -1.0                           1.0        1.0  \n",
       "24996             1.0            1.0                           1.0        1.0  \n",
       "24997             1.0           -1.0                          -1.0        1.0  \n",
       "24998             1.0           -1.0                          -1.0       -1.0  \n",
       "24999             1.0            1.0                          -1.0        1.0  \n",
       "\n",
       "[25000 rows x 9 columns]"
      ]
     },
     "execution_count": 2,
     "metadata": {},
     "output_type": "execute_result"
    }
   ],
   "source": [
    "df.loc[df['MonkeyPox'] == 'Positive', 'MonkeyPox'] = 1.\n",
    "df.loc[df['MonkeyPox'] == 'Negative', 'MonkeyPox'] = -1.\n",
    "\n",
    "df.loc[df['RectalPain'] == True, 'RectalPain'] = 1.\n",
    "df.loc[df['RectalPain'] == False, 'RectalPain'] = -1.\n",
    "\n",
    "df.loc[df['SoreThroat'] == True, 'SoreThroat'] = 1.\n",
    "df.loc[df['SoreThroat'] == False, 'SoreThroat'] = -1.\n",
    "\n",
    "df.loc[df['PenileOedema'] == True, 'PenileOedema'] = 1.\n",
    "df.loc[df['PenileOedema'] == False, 'PenileOedema'] = -1.\n",
    "\n",
    "df.loc[df['OralLesions'] == True, 'OralLesions'] = 1.\n",
    "df.loc[df['OralLesions'] == False, 'OralLesions'] = -1.\n",
    "\n",
    "df.loc[df['SolitaryLesion'] == True, 'SolitaryLesion'] = 1.\n",
    "df.loc[df['SolitaryLesion'] == False, 'SolitaryLesion'] = -1.\n",
    "\n",
    "df.loc[df['SwollenTonsils'] == True, 'SwollenTonsils'] = 1.\n",
    "df.loc[df['SwollenTonsils'] == False, 'SwollenTonsils'] = -1.\n",
    "\n",
    "df.loc[df['HIV_Infection'] == True, 'HIV_Infection'] = 1.\n",
    "df.loc[df['HIV_Infection'] == False, 'HIV_Infection'] = -1.\n",
    "\n",
    "df.loc[df['SexuallyTransmittedInfection'] == True, 'SexuallyTransmittedInfection'] = 1.\n",
    "df.loc[df['SexuallyTransmittedInfection'] == False, 'SexuallyTransmittedInfection'] = -1.\n",
    "\n",
    "df.drop('Patient_ID', inplace=True, axis=1)\n",
    "df.drop('SystemicIllness', inplace=True, axis=1)\n",
    "\n",
    "print(df.info())\n",
    "\n",
    "data = df.infer_objects()\n",
    "\n",
    "print(data.info())\n",
    "data"
   ]
  },
  {
   "cell_type": "code",
   "execution_count": 3,
   "metadata": {
    "colab": {
     "base_uri": "https://localhost:8080/"
    },
    "id": "oKionC6QjwJo",
    "outputId": "e5836f35-a348-4530-ae85-906683ff41e9"
   },
   "outputs": [
    {
     "name": "stdout",
     "output_type": "stream",
     "text": [
      "(25000, 9)\n",
      "[[-1.  1.  1. ... -1. -1. -1.]\n",
      " [ 1. -1.  1. ...  1. -1.  1.]\n",
      " [-1.  1.  1. ...  1. -1.  1.]\n",
      " ...\n",
      " [ 1.  1. -1. ... -1. -1.  1.]\n",
      " [-1.  1. -1. ... -1. -1. -1.]\n",
      " [-1. -1.  1. ...  1. -1.  1.]]\n"
     ]
    }
   ],
   "source": [
    "# Converting pandas data frame to numpy array\n",
    "data = np.array(data)\n",
    "np.exp(data)\n",
    "m, n = data.shape\n",
    "#np.random.shuffle(data) # shuffle before splitting into dev and training sets\n",
    "\n",
    "print(data.shape)\n",
    "print(data)\n"
   ]
  },
  {
   "cell_type": "code",
   "execution_count": 4,
   "metadata": {
    "id": "IdaJtzmhjxzJ"
   },
   "outputs": [],
   "source": [
    "# Training set size in percentage\n",
    "ratio = 80\n",
    "\n",
    "# Segrigating the classes to a different array\n",
    "classes = copy.deepcopy(data.T[data.shape[1]-1])\n",
    "classes[classes == -1] = 0\n",
    "\n",
    "# Removing the class from the inputs\n",
    "inputs = np.delete(data,data.shape[1]-1,1)\n",
    "\n",
    "# Splitting the data into test and train set\n",
    "X_train, X_test, y_train, y_test = train_test_split(data, classes, test_size=(100.0 - ratio)/100.0, random_state=42)\n",
    "\n",
    "#Deleting the class column from the input sets\n",
    "X_train = np.delete(X_train,X_train.shape[1]-1,1)\n",
    "X_test = np.delete(X_test,X_test.shape[1]-1,1)"
   ]
  },
  {
   "cell_type": "markdown",
   "metadata": {
    "id": "9jJawFWF69E_"
   },
   "source": [
    "###**Initialisation of weights and**###"
   ]
  },
  {
   "cell_type": "code",
   "execution_count": 5,
   "metadata": {
    "id": "-qw4ut64j1xo"
   },
   "outputs": [],
   "source": [
    "#Initialization of parameter depends on how we define Multi level perceptron on Dataset\n",
    "#Dimension for the weights and Bias will depend on this\n",
    "def init_weights():\n",
    "  print(\"Init_Weights\")\n",
    "  # Input_layer to hidden layer weights\n",
    "  W1 = np.random.rand(1,data.shape[1]-1) - 0.5                                  # 0.5 has been subtracted to bring the weights in +0.5 to -0.5 range\n",
    "  #Bias value \n",
    "  b1 = np.random.rand(1, 1) - 0.5\n",
    "\n",
    "  return W1, b1"
   ]
  },
  {
   "cell_type": "markdown",
   "metadata": {
    "id": "AoWw9KcU7Al3"
   },
   "source": [
    "###**Activation Function**###"
   ]
  },
  {
   "cell_type": "code",
   "execution_count": 6,
   "metadata": {
    "id": "5gwp6j8ekaKx"
   },
   "outputs": [],
   "source": [
    "#Activation Functions\n",
    "def sigmoid(z):\n",
    "    return 1./(1.+np.exp(-z))\n"
   ]
  },
  {
   "cell_type": "markdown",
   "metadata": {
    "id": "nN_z7hY17CcL"
   },
   "source": [
    "###**Derivative of Activation Function**###"
   ]
  },
  {
   "cell_type": "code",
   "execution_count": 7,
   "metadata": {
    "id": "5mbYfKhUkb9Y"
   },
   "outputs": [],
   "source": [
    "#Derivation of Activation Function to reverse the applied sigmoid function to calculate errors\n",
    "def dSigmoid(z):\n",
    "    return sigmoid(z) *(1-sigmoid (z))"
   ]
  },
  {
   "cell_type": "markdown",
   "metadata": {
    "id": "DdhZHfYp7GvG"
   },
   "source": [
    "###**Forward Propagation**###"
   ]
  },
  {
   "cell_type": "code",
   "execution_count": 8,
   "metadata": {
    "id": "z2qzXOjakdeA"
   },
   "outputs": [],
   "source": [
    "def forward_prop(W1, b1, X):\n",
    "    Z1 = W1.dot(X.T) + b1                                                       # Dot product of W1 with input vector + bias1\n",
    "    A1 = sigmoid(Z1)\n",
    "   \n",
    "    \n",
    "    return Z1, A1\n",
    "    # Z1 = input to Layer1\n",
    "    # A1 = output of layer1  "
   ]
  },
  {
   "cell_type": "markdown",
   "metadata": {
    "id": "FbfT0U7I7UZK"
   },
   "source": [
    "###**Neuron State Function**###"
   ]
  },
  {
   "cell_type": "code",
   "execution_count": 9,
   "metadata": {
    "id": "Z3HvWOcWksw7"
   },
   "outputs": [],
   "source": [
    "# the actual output of the network is found using this function\n",
    "def fired_output(Y):\n",
    "  Y = Y - 0.5\n",
    "  output = np.heaviside(Y,0)\n",
    "  return output"
   ]
  },
  {
   "cell_type": "markdown",
   "metadata": {
    "id": "eqj4MRA-7YAZ"
   },
   "source": [
    "###**Back Propagation**###"
   ]
  },
  {
   "cell_type": "code",
   "execution_count": 10,
   "metadata": {
    "id": "5isCMghGktXx"
   },
   "outputs": [],
   "source": [
    "#The back propagation function\n",
    "def backward_prop(Z1, A1, W1, X, Y):\n",
    "\n",
    "  Actual_value = fired_output(Y)\n",
    "\n",
    "  \n",
    "  dZ1 = A1 - Actual_value                                                       \n",
    "  dW1 = 1 / X.shape[0] * dZ1.dot(X)                                             # Changes required to weight matrix of Hidden_layer_1\n",
    "  db1 = 1 / X.shape[0] * np.sum(dZ1,1)                                          # Changes required to bias matrix of Hidden_layer_1\n",
    "\n",
    "  return dW1, db1"
   ]
  },
  {
   "cell_type": "markdown",
   "metadata": {
    "id": "snW8x49d7e-y"
   },
   "source": [
    "###**Function to update parameters**###"
   ]
  },
  {
   "cell_type": "code",
   "execution_count": 11,
   "metadata": {
    "id": "HCj-Cm3Tm-T6"
   },
   "outputs": [],
   "source": [
    "def update_params(W1, b1, dW1, db1, alpha):\n",
    "\n",
    "    db1 = db1.reshape((1,1))\n",
    "\n",
    "    W1 = W1 - (alpha * dW1)\n",
    "    b1 = b1 - (alpha * db1)    \n",
    "\n",
    "    return W1, b1"
   ]
  },
  {
   "cell_type": "markdown",
   "metadata": {
    "id": "hEZR1in07gc2"
   },
   "source": [
    "###**Function to get the descrete predictions**###"
   ]
  },
  {
   "cell_type": "code",
   "execution_count": 12,
   "metadata": {
    "id": "SecBLtUhnK-S"
   },
   "outputs": [],
   "source": [
    "# descretises the output to 0,1 to represent not fired and fired neuron respectively\n",
    "def get_predictions(A2):\n",
    "    X = A2 - 0.66\n",
    "    return np.heaviside(X,0)"
   ]
  },
  {
   "cell_type": "markdown",
   "metadata": {
    "id": "3E8zQ1Je7mMu"
   },
   "source": [
    "###**Function to get Accuracy**###"
   ]
  },
  {
   "cell_type": "code",
   "execution_count": 13,
   "metadata": {
    "id": "tVnh8c3pnLZQ"
   },
   "outputs": [],
   "source": [
    "# compares the output and gets the accuracy \n",
    "def get_accuracy(predictions, Y):\n",
    "    return np.sum(predictions == Y) / Y.size"
   ]
  },
  {
   "cell_type": "markdown",
   "metadata": {
    "id": "GtmUnmlO7pbg"
   },
   "source": [
    "###**Function to test output**###"
   ]
  },
  {
   "cell_type": "code",
   "execution_count": 14,
   "metadata": {
    "id": "UBc_AdGGtlVT"
   },
   "outputs": [],
   "source": [
    "# function to test the output from test/global data\n",
    "def test_output(W1, b1, X, Y):\n",
    "  Z1 = W1.dot(X.T) + b1                                                       # Dot product of W1 with input vector + bias1\n",
    "  A1 = sigmoid(Z1)\n",
    "\n",
    "  predict = get_predictions(A1)\n",
    "\n",
    "  acc = get_accuracy(predict, Y)\n",
    "  return acc\n"
   ]
  },
  {
   "cell_type": "markdown",
   "metadata": {
    "id": "ofU15tAS7sYD"
   },
   "source": [
    "###**Gradient Descent**###"
   ]
  },
  {
   "cell_type": "code",
   "execution_count": 15,
   "metadata": {
    "id": "Yi5hzE8ZnQyR"
   },
   "outputs": [],
   "source": [
    "def gradient_descent(X, Y, alpha, iterations):\n",
    "    W1, b1 = init_weights()\n",
    "    epoch_vs_Eavg_1 = []\n",
    "    epoch_vs_Misclassification = []\n",
    "    for i in range(iterations):\n",
    "        # Applying forward_propagation\n",
    "        Z1, A1 = forward_prop(W1, b1, X)\n",
    "        #Taking the value from the forward_propagation and then back_propagating the error\n",
    "        dW1, db1 = backward_prop(Z1, A1, W1, X, Y)\n",
    "        # Updating the weights and biases with respect to the output from the back_propagation\n",
    "        W1, b1 = update_params(W1, b1, dW1, db1, alpha)\n",
    "        # Runs the iterations and prints the count at every 100 iterations\n",
    "        if i % 10 == 0:\n",
    "            if(i % 200 == 0):\n",
    "              print(\"Iteration: \", i)\n",
    "            predictions = get_predictions(A1)\n",
    "            epoch_vs_Misclassification.append(100 - get_accuracy(predictions, Y)*100)\n",
    "            epoch_vs_Eavg_1.append(db1)\n",
    "            \n",
    "\n",
    "    print(\"predictions\")\n",
    "    print(predictions.size)\n",
    "    print(predictions)\n",
    "    print(Y)\n",
    "    print(\"Misclassification in percentage : \")\n",
    "    print(epoch_vs_Misclassification)\n",
    "    print(\"Average Error found in layer 1\")\n",
    "    print(epoch_vs_Eavg_1)\n",
    "\n",
    "        \n",
    "    return W1, b1, epoch_vs_Misclassification, epoch_vs_Eavg_1"
   ]
  },
  {
   "cell_type": "markdown",
   "metadata": {
    "id": "WPYBbwv-7t_n"
   },
   "source": [
    "###**Calling the function**###"
   ]
  },
  {
   "cell_type": "code",
   "execution_count": 29,
   "metadata": {
    "colab": {
     "base_uri": "https://localhost:8080/"
    },
    "id": "iIgEE24on6Zy",
    "outputId": "b0c65ed6-9a8c-45ca-9ef1-d5d9f822b702"
   },
   "outputs": [
    {
     "name": "stdout",
     "output_type": "stream",
     "text": [
      "Init_Weights\n",
      "Iteration:  0\n",
      "Iteration:  200\n",
      "Iteration:  400\n",
      "Iteration:  600\n",
      "Iteration:  800\n",
      "Iteration:  1000\n",
      "Iteration:  1200\n",
      "Iteration:  1400\n",
      "Iteration:  1600\n",
      "Iteration:  1800\n",
      "Iteration:  2000\n",
      "Iteration:  2200\n",
      "Iteration:  2400\n",
      "Iteration:  2600\n",
      "Iteration:  2800\n",
      "Iteration:  3000\n",
      "Iteration:  3200\n",
      "Iteration:  3400\n",
      "Iteration:  3600\n",
      "Iteration:  3800\n",
      "predictions\n",
      "20000\n",
      "[[1. 1. 1. ... 0. 1. 0.]]\n",
      "[1. 1. 0. ... 0. 1. 0.]\n",
      "Misclassification in percentage : \n",
      "[58.324999999999996, 58.324999999999996, 57.71, 57.4, 57.205, 57.205, 57.205, 57.15, 57.15, 57.09, 56.995000000000005, 56.995000000000005, 56.995000000000005, 56.795, 56.59, 56.59, 56.24, 55.864999999999995, 55.16, 54.644999999999996, 54.415, 54.254999999999995, 53.985, 54.0, 54.18, 54.21, 54.42, 54.42, 53.915, 53.695, 53.695, 53.435, 52.93, 52.71, 52.589999999999996, 52.44, 52.28, 52.045, 52.045, 51.695, 51.375, 51.375, 51.15, 50.98, 50.98, 50.98, 50.080000000000005, 50.080000000000005, 50.080000000000005, 50.080000000000005, 50.22, 50.015, 49.525, 49.35000000000001, 48.94500000000001, 49.01, 48.61, 48.61, 48.529999999999994, 48.35, 48.45, 48.45, 48.419999999999995, 48.419999999999995, 48.33, 48.33, 48.305, 48.155, 47.49, 47.419999999999995, 46.975, 46.205, 45.815, 45.815, 45.684999999999995, 45.504999999999995, 45.440000000000005, 45.3, 45.3, 45.3, 45.3, 44.96, 44.995, 44.86, 44.86, 44.720000000000006, 44.720000000000006, 44.525000000000006, 44.525000000000006, 44.68, 44.769999999999996, 44.769999999999996, 44.769999999999996, 44.769999999999996, 44.769999999999996, 44.615, 44.46, 44.46, 44.279999999999994, 44.279999999999994, 43.985, 43.985, 43.85, 43.85, 43.85, 43.85, 43.85, 43.85, 43.69499999999999, 43.69499999999999, 43.489999999999995, 43.489999999999995, 43.489999999999995, 43.489999999999995, 43.489999999999995, 43.325, 42.93, 42.93, 42.93, 42.769999999999996, 42.885, 42.715, 42.584999999999994, 42.584999999999994, 42.410000000000004, 42.410000000000004, 42.290000000000006, 42.290000000000006, 42.290000000000006, 42.290000000000006, 42.165, 42.165, 42.165, 41.935, 41.935, 41.935, 41.935, 41.935, 41.935, 41.935, 41.935, 41.935, 41.935, 42.09, 42.09, 42.09, 42.09, 42.21, 42.21, 42.21, 42.21, 42.21, 42.21, 42.21, 42.21, 42.21, 42.09, 42.09, 42.09, 42.09, 42.09, 42.09, 42.09, 41.879999999999995, 41.879999999999995, 41.879999999999995, 41.879999999999995, 41.74, 41.74, 41.74, 41.74, 41.74, 41.74, 41.74, 41.74, 41.74, 41.74, 41.74, 41.74, 41.74, 41.74, 41.74, 41.74, 41.74, 41.74, 41.74, 41.74, 41.74, 41.74, 41.74, 41.74, 41.74, 41.74, 41.74, 41.74, 41.74, 41.74, 41.74, 41.74, 41.74, 41.74, 41.74, 41.74, 41.74, 41.74, 41.74, 41.74, 41.74, 41.74, 41.74, 41.74, 41.74, 41.74, 41.74, 41.74, 41.74, 41.74, 41.74, 41.74, 41.74, 41.74, 41.74, 41.74, 41.74, 41.74, 41.74, 41.74, 41.74, 41.74, 41.74, 41.74, 41.74, 41.74, 41.74, 41.74, 41.74, 41.74, 41.74, 41.65, 41.65, 41.65, 41.65, 41.65, 41.65, 41.65, 41.65, 41.65, 41.65, 41.65, 41.65, 41.65, 41.65, 41.65, 41.65, 41.65, 41.464999999999996, 41.464999999999996, 41.464999999999996, 41.464999999999996, 41.464999999999996, 41.339999999999996, 41.339999999999996, 41.18000000000001, 41.18000000000001, 41.18000000000001, 41.18000000000001, 41.18000000000001, 41.18000000000001, 41.18000000000001, 41.18000000000001, 41.18000000000001, 41.18000000000001, 41.18000000000001, 41.18000000000001, 41.18000000000001, 41.18000000000001, 41.18000000000001, 41.18000000000001, 41.18000000000001, 41.18000000000001, 41.18000000000001, 41.18000000000001, 41.18000000000001, 41.18000000000001, 41.18000000000001, 41.03, 41.03, 41.03, 41.03, 41.03, 41.03, 41.03, 41.03, 41.03, 41.03, 41.03, 41.03, 41.03, 41.03, 41.03, 41.03, 41.03, 41.03, 41.03, 41.03, 41.03, 41.03, 41.03, 41.03, 41.03, 41.03, 41.03, 41.03, 41.03, 41.03, 41.03, 41.03, 41.03, 41.03, 41.03, 41.03, 41.03, 41.03, 41.03, 41.03, 41.03, 41.03, 41.03, 41.03, 41.03, 41.03, 41.03, 41.03, 41.03, 41.03, 41.03, 41.03, 41.03, 41.03, 41.03, 41.03, 41.03, 41.03, 41.03, 41.03, 41.03, 41.03, 41.03, 41.03, 41.03, 41.03, 41.03, 41.03, 41.03, 41.03, 41.03, 41.03, 41.03, 41.03, 41.03, 41.03, 41.03, 41.03, 41.03, 40.86, 40.86, 40.86, 40.86, 40.86, 40.86, 40.86, 40.86, 40.86, 40.86, 40.86, 40.86, 40.86, 40.86, 40.86, 40.86, 40.86, 40.86, 40.86, 40.86, 40.86, 40.86, 40.86, 40.86, 40.86, 40.86, 40.86, 40.86, 40.86, 40.86, 40.86, 40.86, 40.86, 40.86, 40.86, 40.86]\n",
      "Average Error found in layer 1\n",
      "[array([-0.12103538]), array([-0.11850475]), array([-0.11599257]), array([-0.11350093]), array([-0.11103186]), array([-0.10858734]), array([-0.10616926]), array([-0.10377941]), array([-0.1014195]), array([-0.09909114]), array([-0.09679583]), array([-0.09453493]), array([-0.09230971]), array([-0.09012133]), array([-0.08797079]), array([-0.08585901]), array([-0.08378675]), array([-0.08175467]), array([-0.0797633]), array([-0.07781307]), array([-0.07590429]), array([-0.07403715]), array([-0.07221174]), array([-0.07042807]), array([-0.06868604]), array([-0.06698547]), array([-0.06532609]), array([-0.06370757]), array([-0.0621295]), array([-0.06059141]), array([-0.05909279]), array([-0.05763305]), array([-0.05621158]), array([-0.05482772]), array([-0.05348078]), array([-0.05217004]), array([-0.05089476]), array([-0.04965417]), array([-0.04844751]), array([-0.04727398]), array([-0.04613279]), array([-0.04502313]), array([-0.04394421]), array([-0.04289522]), array([-0.04187537]), array([-0.04088386]), array([-0.03991992]), array([-0.03898277]), array([-0.03807164]), array([-0.03718579]), array([-0.03632448]), array([-0.03548697]), array([-0.03467258]), array([-0.03388059]), array([-0.03311033]), array([-0.03236115]), array([-0.0316324]), array([-0.03092344]), array([-0.03023368]), array([-0.02956251]), array([-0.02890936]), array([-0.02827368]), array([-0.02765491]), array([-0.02705253]), array([-0.02646603]), array([-0.02589492]), array([-0.02533871]), array([-0.02479695]), array([-0.02426918]), array([-0.02375498]), array([-0.02325392]), array([-0.02276559]), array([-0.02228962]), array([-0.0218256]), array([-0.02137319]), array([-0.02093203]), array([-0.02050177]), array([-0.02008209]), array([-0.01967266]), array([-0.01927319]), array([-0.01888337]), array([-0.01850291]), array([-0.01813155]), array([-0.017769]), array([-0.01741502]), array([-0.01706936]), array([-0.01673177]), array([-0.01640202]), array([-0.01607988]), array([-0.01576515]), array([-0.0154576]), array([-0.01515704]), array([-0.01486328]), array([-0.01457611]), array([-0.01429537]), array([-0.01402087]), array([-0.01375244]), array([-0.01348992]), array([-0.01323315]), array([-0.01298197]), array([-0.01273624]), array([-0.0124958]), array([-0.01226053]), array([-0.01203029]), array([-0.01180493]), array([-0.01158435]), array([-0.01136842]), array([-0.01115701]), array([-0.01095001]), array([-0.01074731]), array([-0.01054881]), array([-0.0103544]), array([-0.01016397]), array([-0.00997744]), array([-0.0097947]), array([-0.00961566]), array([-0.00944023]), array([-0.00926833]), array([-0.00909987]), array([-0.00893478]), array([-0.00877296]), array([-0.00861435]), array([-0.00845886]), array([-0.00830644]), array([-0.008157]), array([-0.00801048]), array([-0.00786681]), array([-0.00772592]), array([-0.00758776]), array([-0.00745227]), array([-0.00731937]), array([-0.00718903]), array([-0.00706117]), array([-0.00693575]), array([-0.00681271]), array([-0.00669199]), array([-0.00657356]), array([-0.00645736]), array([-0.00634334]), array([-0.00623146]), array([-0.00612167]), array([-0.00601393]), array([-0.00590819]), array([-0.00580441]), array([-0.00570255]), array([-0.00560257]), array([-0.00550444]), array([-0.00540811]), array([-0.00531355]), array([-0.00522072]), array([-0.00512959]), array([-0.00504011]), array([-0.00495227]), array([-0.00486602]), array([-0.00478134]), array([-0.00469819]), array([-0.00461654]), array([-0.00453637]), array([-0.00445764]), array([-0.00438032]), array([-0.0043044]), array([-0.00422983]), array([-0.0041566]), array([-0.00408467]), array([-0.00401403]), array([-0.00394465]), array([-0.0038765]), array([-0.00380957]), array([-0.00374382]), array([-0.00367923]), array([-0.00361579]), array([-0.00355347]), array([-0.00349226]), array([-0.00343212]), array([-0.00337304]), array([-0.003315]), array([-0.00325798]), array([-0.00320196]), array([-0.00314692]), array([-0.00309285]), array([-0.00303973]), array([-0.00298753]), array([-0.00293625]), array([-0.00288586]), array([-0.00283635]), array([-0.0027877]), array([-0.0027399]), array([-0.00269294]), array([-0.00264678]), array([-0.00260143]), array([-0.00255687]), array([-0.00251308]), array([-0.00247005]), array([-0.00242777]), array([-0.00238622]), array([-0.00234538]), array([-0.00230526]), array([-0.00226582]), array([-0.00222707]), array([-0.00218899]), array([-0.00215156]), array([-0.00211478]), array([-0.00207863]), array([-0.0020431]), array([-0.00200819]), array([-0.00197388]), array([-0.00194016]), array([-0.00190701]), array([-0.00187444]), array([-0.00184243]), array([-0.00181096]), array([-0.00178004]), array([-0.00174964]), array([-0.00171977]), array([-0.00169041]), array([-0.00166156]), array([-0.00163319]), array([-0.00160532]), array([-0.00157792]), array([-0.00155099]), array([-0.00152452]), array([-0.0014985]), array([-0.00147293]), array([-0.00144779]), array([-0.00142309]), array([-0.00139881]), array([-0.00137494]), array([-0.00135148]), array([-0.00132842]), array([-0.00130575]), array([-0.00128348]), array([-0.00126158]), array([-0.00124005]), array([-0.0012189]), array([-0.0011981]), array([-0.00117766]), array([-0.00115757]), array([-0.00113782]), array([-0.0011184]), array([-0.00109932]), array([-0.00108056]), array([-0.00106212]), array([-0.001044]), array([-0.00102619]), array([-0.00100868]), array([-0.00099146]), array([-0.00097454]), array([-0.00095791]), array([-0.00094156]), array([-0.00092549]), array([-0.0009097]), array([-0.00089417]), array([-0.00087891]), array([-0.00086391]), array([-0.00084916]), array([-0.00083466]), array([-0.00082041]), array([-0.00080641]), array([-0.00079264]), array([-0.00077911]), array([-0.0007658]), array([-0.00075273]), array([-0.00073987]), array([-0.00072724]), array([-0.00071481]), array([-0.00070261]), array([-0.0006906]), array([-0.00067881]), array([-0.00066721]), array([-0.00065581]), array([-0.00064461]), array([-0.00063359]), array([-0.00062277]), array([-0.00061213]), array([-0.00060166]), array([-0.00059138]), array([-0.00058127]), array([-0.00057134]), array([-0.00056157]), array([-0.00055197]), array([-0.00054253]), array([-0.00053326]), array([-0.00052414]), array([-0.00051518]), array([-0.00050637]), array([-0.00049771]), array([-0.00048919]), array([-0.00048083]), array([-0.0004726]), array([-0.00046451]), array([-0.00045657]), array([-0.00044876]), array([-0.00044108]), array([-0.00043353]), array([-0.00042611]), array([-0.00041882]), array([-0.00041165]), array([-0.0004046]), array([-0.00039767]), array([-0.00039086]), array([-0.00038417]), array([-0.00037759]), array([-0.00037113]), array([-0.00036477]), array([-0.00035852]), array([-0.00035238]), array([-0.00034635]), array([-0.00034041]), array([-0.00033458]), array([-0.00032885]), array([-0.00032321]), array([-0.00031767]), array([-0.00031223]), array([-0.00030688]), array([-0.00030162]), array([-0.00029645]), array([-0.00029136]), array([-0.00028637]), array([-0.00028146]), array([-0.00027663]), array([-0.00027189]), array([-0.00026722]), array([-0.00026264]), array([-0.00025813]), array([-0.00025371]), array([-0.00024935]), array([-0.00024508]), array([-0.00024087]), array([-0.00023674]), array([-0.00023267]), array([-0.00022868]), array([-0.00022476]), array([-0.0002209]), array([-0.0002171]), array([-0.00021338]), array([-0.00020971]), array([-0.00020611]), array([-0.00020257]), array([-0.00019909]), array([-0.00019567]), array([-0.00019231]), array([-0.00018901]), array([-0.00018576]), array([-0.00018257]), array([-0.00017943]), array([-0.00017635]), array([-0.00017332]), array([-0.00017034]), array([-0.00016741]), array([-0.00016454]), array([-0.00016171]), array([-0.00015893]), array([-0.0001562]), array([-0.00015351]), array([-0.00015087]), array([-0.00014828]), array([-0.00014573]), array([-0.00014322]), array([-0.00014076]), array([-0.00013834]), array([-0.00013596]), array([-0.00013362]), array([-0.00013132]), array([-0.00012906]), array([-0.00012684]), array([-0.00012465]), array([-0.00012251]), array([-0.0001204]), array([-0.00011833]), array([-0.00011629]), array([-0.00011429]), array([-0.00011232]), array([-0.00011039]), array([-0.00010849]), array([-0.00010662]), array([-0.00010478]), array([-0.00010298]), array([-0.0001012]), array([-9.94612809e-05]), array([-9.77479641e-05]), array([-9.60640459e-05]), array([-9.44090242e-05]), array([-9.27824056e-05]), array([-9.11837049e-05]), array([-8.96124453e-05]), array([-8.80681581e-05]), array([-8.65503823e-05]), array([-8.50586651e-05]), array([-8.35925611e-05]), array([-8.21516327e-05]), array([-8.07354495e-05]), array([-7.93435887e-05]), array([-7.79756344e-05]), array([-7.6631178e-05]), array([-7.53098176e-05]), array([-7.40111584e-05]), array([-7.27348121e-05]), array([-7.14803972e-05]), array([-7.02475384e-05]), array([-6.90358672e-05])]\n"
     ]
    }
   ],
   "source": [
    "W1, b1, epoch_vs_Misclassification, epoch_vs_Eavg_1 = gradient_descent(X_train, y_train, 0.01, 4000)"
   ]
  },
  {
   "cell_type": "markdown",
   "metadata": {
    "id": "NFwqmrUZ72Rx"
   },
   "source": [
    "###**Plotting Epoch vs. Misclassificaiton graph**###"
   ]
  },
  {
   "cell_type": "code",
   "execution_count": 30,
   "metadata": {
    "colab": {
     "base_uri": "https://localhost:8080/",
     "height": 332
    },
    "id": "kvihuV5CoLPK",
    "outputId": "1cb02c2b-705b-477b-c878-cf7a26db1228"
   },
   "outputs": [
    {
     "name": "stdout",
     "output_type": "stream",
     "text": [
      "[58.324999999999996, 58.324999999999996, 57.71, 57.4, 57.205, 57.205, 57.205, 57.15, 57.15, 57.09, 56.995000000000005, 56.995000000000005, 56.995000000000005, 56.795, 56.59, 56.59, 56.24, 55.864999999999995, 55.16, 54.644999999999996, 54.415, 54.254999999999995, 53.985, 54.0, 54.18, 54.21, 54.42, 54.42, 53.915, 53.695, 53.695, 53.435, 52.93, 52.71, 52.589999999999996, 52.44, 52.28, 52.045, 52.045, 51.695, 51.375, 51.375, 51.15, 50.98, 50.98, 50.98, 50.080000000000005, 50.080000000000005, 50.080000000000005, 50.080000000000005, 50.22, 50.015, 49.525, 49.35000000000001, 48.94500000000001, 49.01, 48.61, 48.61, 48.529999999999994, 48.35, 48.45, 48.45, 48.419999999999995, 48.419999999999995, 48.33, 48.33, 48.305, 48.155, 47.49, 47.419999999999995, 46.975, 46.205, 45.815, 45.815, 45.684999999999995, 45.504999999999995, 45.440000000000005, 45.3, 45.3, 45.3, 45.3, 44.96, 44.995, 44.86, 44.86, 44.720000000000006, 44.720000000000006, 44.525000000000006, 44.525000000000006, 44.68, 44.769999999999996, 44.769999999999996, 44.769999999999996, 44.769999999999996, 44.769999999999996, 44.615, 44.46, 44.46, 44.279999999999994, 44.279999999999994, 43.985, 43.985, 43.85, 43.85, 43.85, 43.85, 43.85, 43.85, 43.69499999999999, 43.69499999999999, 43.489999999999995, 43.489999999999995, 43.489999999999995, 43.489999999999995, 43.489999999999995, 43.325, 42.93, 42.93, 42.93, 42.769999999999996, 42.885, 42.715, 42.584999999999994, 42.584999999999994, 42.410000000000004, 42.410000000000004, 42.290000000000006, 42.290000000000006, 42.290000000000006, 42.290000000000006, 42.165, 42.165, 42.165, 41.935, 41.935, 41.935, 41.935, 41.935, 41.935, 41.935, 41.935, 41.935, 41.935, 42.09, 42.09, 42.09, 42.09, 42.21, 42.21, 42.21, 42.21, 42.21, 42.21, 42.21, 42.21, 42.21, 42.09, 42.09, 42.09, 42.09, 42.09, 42.09, 42.09, 41.879999999999995, 41.879999999999995, 41.879999999999995, 41.879999999999995, 41.74, 41.74, 41.74, 41.74, 41.74, 41.74, 41.74, 41.74, 41.74, 41.74, 41.74, 41.74, 41.74, 41.74, 41.74, 41.74, 41.74, 41.74, 41.74, 41.74, 41.74, 41.74, 41.74, 41.74, 41.74, 41.74, 41.74, 41.74, 41.74, 41.74, 41.74, 41.74, 41.74, 41.74, 41.74, 41.74, 41.74, 41.74, 41.74, 41.74, 41.74, 41.74, 41.74, 41.74, 41.74, 41.74, 41.74, 41.74, 41.74, 41.74, 41.74, 41.74, 41.74, 41.74, 41.74, 41.74, 41.74, 41.74, 41.74, 41.74, 41.74, 41.74, 41.74, 41.74, 41.74, 41.74, 41.74, 41.74, 41.74, 41.74, 41.74, 41.65, 41.65, 41.65, 41.65, 41.65, 41.65, 41.65, 41.65, 41.65, 41.65, 41.65, 41.65, 41.65, 41.65, 41.65, 41.65, 41.65, 41.464999999999996, 41.464999999999996, 41.464999999999996, 41.464999999999996, 41.464999999999996, 41.339999999999996, 41.339999999999996, 41.18000000000001, 41.18000000000001, 41.18000000000001, 41.18000000000001, 41.18000000000001, 41.18000000000001, 41.18000000000001, 41.18000000000001, 41.18000000000001, 41.18000000000001, 41.18000000000001, 41.18000000000001, 41.18000000000001, 41.18000000000001, 41.18000000000001, 41.18000000000001, 41.18000000000001, 41.18000000000001, 41.18000000000001, 41.18000000000001, 41.18000000000001, 41.18000000000001, 41.18000000000001, 41.03, 41.03, 41.03, 41.03, 41.03, 41.03, 41.03, 41.03, 41.03, 41.03, 41.03, 41.03, 41.03, 41.03, 41.03, 41.03, 41.03, 41.03, 41.03, 41.03, 41.03, 41.03, 41.03, 41.03, 41.03, 41.03, 41.03, 41.03, 41.03, 41.03, 41.03, 41.03, 41.03, 41.03, 41.03, 41.03, 41.03, 41.03, 41.03, 41.03, 41.03, 41.03, 41.03, 41.03, 41.03, 41.03, 41.03, 41.03, 41.03, 41.03, 41.03, 41.03, 41.03, 41.03, 41.03, 41.03, 41.03, 41.03, 41.03, 41.03, 41.03, 41.03, 41.03, 41.03, 41.03, 41.03, 41.03, 41.03, 41.03, 41.03, 41.03, 41.03, 41.03, 41.03, 41.03, 41.03, 41.03, 41.03, 41.03, 40.86, 40.86, 40.86, 40.86, 40.86, 40.86, 40.86, 40.86, 40.86, 40.86, 40.86, 40.86, 40.86, 40.86, 40.86, 40.86, 40.86, 40.86, 40.86, 40.86, 40.86, 40.86, 40.86, 40.86, 40.86, 40.86, 40.86, 40.86, 40.86, 40.86, 40.86, 40.86, 40.86, 40.86, 40.86, 40.86]\n"
     ]
    },
    {
     "data": {
      "image/png": "[encoded data removed]",
      "text/plain": [
       "<Figure size 432x288 with 1 Axes>"
      ]
     },
     "metadata": {
      "needs_background": "light"
     },
     "output_type": "display_data"
    }
   ],
   "source": [
    "# Error vs Misclassification\n",
    "\n",
    "print(epoch_vs_Misclassification)\n",
    "#y = np.arange(100)\n",
    "y = np.arange(np.array(epoch_vs_Misclassification).shape[0])\n",
    "\n",
    "plt.plot(y,epoch_vs_Misclassification,  color='green', linestyle='dashed', linewidth = 3,marker='o', markerfacecolor='blue', markersize=5)\n",
    " \n",
    "# setting x and y axis range\n",
    "plt.xlim(1,400)\n",
    "plt.ylim(0,95)\n",
    " \n",
    "# naming the x axis\n",
    "plt.xlabel('Iteration x10')\n",
    "# naming the y axis\n",
    "plt.ylabel('Missclassicfication')\n",
    " \n",
    "# giving a title to my graph\n",
    "plt.title('Epoch  V/s Misclassification Grapgh')\n",
    " \n",
    "# function to show the plot\n",
    "plt.show()"
   ]
  },
  {
   "cell_type": "markdown",
   "metadata": {
    "id": "b1_n2HAG79Mm"
   },
   "source": [
    "###**Plotting Epoch vs Average Error graph**###"
   ]
  },
  {
   "cell_type": "code",
   "execution_count": 31,
   "metadata": {
    "colab": {
     "base_uri": "https://localhost:8080/",
     "height": 295
    },
    "id": "UXKdHshUoiGa",
    "outputId": "0c59b556-16f6-44e9-b3f6-f7785d37b7f4"
   },
   "outputs": [
    {
     "data": {
      "image/png": "[encoded data removed]",
      "text/plain": [
       "<Figure size 432x288 with 1 Axes>"
      ]
     },
     "metadata": {
      "needs_background": "light"
     },
     "output_type": "display_data"
    }
   ],
   "source": [
    "# Epoch vs average error \n",
    "\n",
    "y = np.arange(np.array(epoch_vs_Eavg_1).shape[0])\n",
    "\n",
    "plt.plot(y,epoch_vs_Eavg_1,  color='green', linestyle='dashed', linewidth = 3,marker='o', markerfacecolor='blue', markersize=5)\n",
    " \n",
    "# plt.plot(y,epoch_vs_Eavg_2,  color='black', linestyle='dashed', linewidth = 3,\n",
    "#          marker='*', markerfacecolor='red', markersize=5)\n",
    "\n",
    "plt.plot(color=\"tab:orange\", lw=0.010, label=\"a line\")\n",
    "\n",
    "# plt.annotate('figure pixels',xy=(10, 10), xycoords='figure pixels')\n",
    "# setting x and y axis range\n",
    "plt.xlim(1,400)\n",
    "plt.ylim(-0.05,0.015)\n",
    " \n",
    "# naming the x axis\n",
    "plt.xlabel('Iteration x10')\n",
    "# naming the y axis\n",
    "plt.ylabel('E_avg.')\n",
    " \n",
    "# giving a title to my graph\n",
    "plt.title('Epoch  V/s Eavg Graph')\n",
    " \n",
    "# function to show the plot\n",
    "plt.show()"
   ]
  },
  {
   "cell_type": "markdown",
   "metadata": {
    "id": "-3vISVZb8BGD"
   },
   "source": [
    "###**Testing the model on Test Set**###"
   ]
  },
  {
   "cell_type": "code",
   "execution_count": 19,
   "metadata": {
    "colab": {
     "base_uri": "https://localhost:8080/"
    },
    "id": "YxQPU6t1ok35",
    "outputId": "6c6b321d-08f8-4d44-f4cb-c4204f5a6cec"
   },
   "outputs": [
    {
     "name": "stdout",
     "output_type": "stream",
     "text": [
      "Accuracy on test set:\n",
      "\n",
      "58.14%\n"
     ]
    }
   ],
   "source": [
    "print(\"Accuracy on test set:\\n\")\n",
    "print(str(test_output(W1, b1, X_test, y_test)*100)+\"%\")"
   ]
  },
  {
   "cell_type": "code",
   "execution_count": null,
   "metadata": {
    "id": "u-XMxzsxtuOq"
   },
   "outputs": [],
   "source": []
  }
 ],
 "metadata": {
  "colab": {
   "provenance": []
  },
  "kernelspec": {
   "display_name": "Python 3 (ipykernel)",
   "language": "python",
   "name": "python3"
  },
  "language_info": {
   "codemirror_mode": {
    "name": "ipython",
    "version": 3
   },
   "file_extension": ".py",
   "mimetype": "text/x-python",
   "name": "python",
   "nbconvert_exporter": "python",
   "pygments_lexer": "ipython3",
   "version": "3.9.12"
  }
 },
 "nbformat": 4,
 "nbformat_minor": 1
}
